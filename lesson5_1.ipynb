{
 "cells": [
  {
   "cell_type": "code",
   "execution_count": 8,
   "metadata": {},
   "outputs": [
    {
     "name": "stdout",
     "output_type": "stream",
     "text": [
      "請輸入學生分數(0-100):38\n",
      "不及格\n"
     ]
    }
   ],
   "source": [
    "# 請輸入學生不及格人數(0~100)\n",
    "\n",
    "#0~60.不及格\n",
    "#60~80.及格\n",
    "#80~100.優\n",
    "#檢查超出範圍\n",
    "\n",
    "#if 單向選擇(true)    \n",
    "#else 雙向選擇(false).判斷兩個區域 槽狀\n",
    "\n",
    "import pyinputplus as pyip\n",
    "\n",
    "#引述名稱的呼叫\n",
    "scores = pyip.inputInt(\"請輸入學生分數(0-100):\",max=100,min=0)\n",
    "print (scores)\n",
    "\n",
    "# if後面要布林直\n",
    "if scores < 60 :\n",
    "    print(\"不及格\")\n",
    "else:\n",
    "    if scores < 80:\n",
    "        print(\"及格\")  \n",
    "    else:\n",
    "        print(\"優\")     \n",
    "\n",
    "    \n",
    "    "
   ]
  },
  {
   "cell_type": "code",
   "execution_count": 9,
   "metadata": {},
   "outputs": [
    {
     "name": "stdout",
     "output_type": "stream",
     "text": [
      "請輸入學生分數(0-100):38\n",
      "不及格\n"
     ]
    }
   ],
   "source": [
    "# 請輸入學生不及格人數(0~100)\n",
    "\n",
    "#0~60.不及格\n",
    "#60~80.及格\n",
    "#80~100.優\n",
    "#檢查超出範圍\n",
    "\n",
    "import pyinputplus as pyip\n",
    "scores = pyip.inputInt(\"請輸入學生分數(0-100):\",max=100,min=0)\n",
    "print (scores)\n",
    "\n",
    "#多向選擇\n",
    "if scores < 60:\n",
    "    print(\"不及格\")\n",
    "elif scores < 80:\n",
    "    print(\"及格\")\n",
    "else:\n",
    "    print(\"優\")  \n",
    "      "
   ]
  },
  {
   "cell_type": "code",
   "execution_count": 4,
   "metadata": {},
   "outputs": [
    {
     "name": "stdout",
     "output_type": "stream",
     "text": [
      "請輸入學生分數(0-100):88\n",
      "甲\n"
     ]
    }
   ],
   "source": [
    "# 請輸入學生不及格人數\n",
    "\n",
    "#90(含)~100分為[優]\n",
    "#80(含)~89分為[甲]\n",
    "#70(含)~79分為[乙]\n",
    "#60(含)~69分為[丙]\n",
    "#0(含)~59分為[丁]\n",
    "# if else 只有一個程式區塊會被執行\n",
    "\n",
    "\n",
    "scores = pyip.inputInt(\"請輸入學生分數(0-100):\",max=100,min=0)\n",
    "print(scores)\n",
    "\n",
    "if scores >= 90:\n",
    "    print(\"優\")\n",
    "elif scores >=80:\n",
    "    print(\"甲\")\n",
    "elif scores >=70:\n",
    "    print(\"乙\")\n",
    "elif scores >=60:\n",
    "    print(\"丙\")\n",
    "elif scores >=50:\n",
    "    print(\"丁\")"
   ]
  },
  {
   "cell_type": "code",
   "execution_count": 6,
   "metadata": {},
   "outputs": [
    {
     "name": "stdout",
     "output_type": "stream",
     "text": [
      "請輸入年齡:北賽垮\n"
     ]
    }
   ],
   "source": [
    "#限制級:18歲或以上皆可欣賞\n",
    "#輔導級:13歲(含)~17歲以上皆可欣賞\n",
    "#普遍級:12歲(含)以下皆可欣賞\n",
    "\n",
    "age = pyip.inputInt(\"請輸入年齡:\",max=100,min=0,blank=True)\n",
    "\n",
    "#空字串\n",
    "if (age) == \"\":\n",
    "    print(\"青菜垮\")\n",
    "elif age > 18:\n",
    "    print(\"北賽垮\")\n",
    "elif age >= 13:\n",
    "    print(\"燒燒A況垮\")\n",
    "else:\n",
    "    print(\"阿公揪阿罵來誇\")\n"
   ]
  }
 ],
 "metadata": {
  "kernelspec": {
   "display_name": "Python 3",
   "language": "python",
   "name": "python3"
  },
  "language_info": {
   "codemirror_mode": {
    "name": "ipython",
    "version": 3
   },
   "file_extension": ".py",
   "mimetype": "text/x-python",
   "name": "python",
   "nbconvert_exporter": "python",
   "pygments_lexer": "ipython3",
   "version": "3.10.13"
  }
 },
 "nbformat": 4,
 "nbformat_minor": 2
}
