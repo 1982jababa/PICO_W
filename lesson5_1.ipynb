{
 "cells": [
  {
   "cell_type": "code",
   "execution_count": 8,
   "metadata": {},
   "outputs": [
    {
     "name": "stdout",
     "output_type": "stream",
     "text": [
      "請輸入學生分數(0-100):38\n",
      "不及格\n"
     ]
    }
   ],
   "source": [
    "# 請輸入學生不及格人數(0~100)\n",
    "\n",
    "#0~60.不及格\n",
    "#60~80.及格\n",
    "#80~100.優\n",
    "#檢查超出範圍\n",
    "\n",
    "#if 單向選擇(true)    \n",
    "#else 雙向選擇(false).判斷兩個區域 槽狀\n",
    "\n",
    "import pyinputplus as pyip\n",
    "\n",
    "#引述名稱的呼叫\n",
    "scores = pyip.inputInt(\"請輸入學生分數(0-100):\",max=100,min=0)\n",
    "print (scores)\n",
    "\n",
    "# if後面要布林直\n",
    "if scores < 60 :\n",
    "    print(\"不及格\")\n",
    "else:\n",
    "    if scores < 80:\n",
    "        print(\"及格\")  \n",
    "    else:\n",
    "        print(\"優\")     \n",
    "\n",
    "    \n",
    "    "
   ]
  },
  {
   "cell_type": "code",
   "execution_count": 9,
   "metadata": {},
   "outputs": [
    {
     "name": "stdout",
     "output_type": "stream",
     "text": [
      "請輸入學生分數(0-100):38\n",
      "不及格\n"
     ]
    }
   ],
   "source": [
    "# 請輸入學生不及格人數(0~100)\n",
    "\n",
    "#0~60.不及格\n",
    "#60~80.及格\n",
    "#80~100.優\n",
    "#檢查超出範圍\n",
    "\n",
    "import pyinputplus as pyip\n",
    "scores = pyip.inputInt(\"請輸入學生分數(0-100):\",max=100,min=0)\n",
    "print (scores)\n",
    "\n",
    "#多向選擇\n",
    "if scores < 60:\n",
    "    print(\"不及格\")\n",
    "elif scores < 80:\n",
    "    print(\"及格\")\n",
    "else:\n",
    "    print(\"優\")  \n",
    "      "
   ]
  },
  {
   "cell_type": "code",
   "execution_count": 4,
   "metadata": {},
   "outputs": [
    {
     "name": "stdout",
     "output_type": "stream",
     "text": [
      "請輸入學生分數(0-100):88\n",
      "甲\n"
     ]
    }
   ],
   "source": [
    "# 請輸入學生不及格人數\n",
    "\n",
    "#90(含)~100分為[優]\n",
    "#80(含)~89分為[甲]\n",
    "#70(含)~79分為[乙]\n",
    "#60(含)~69分為[丙]\n",
    "#0(含)~59分為[丁]\n",
    "# if else 只有一個程式區塊會被執行\n",
    "\n",
    "\n",
    "scores = pyip.inputInt(\"請輸入學生分數(0-100):\",max=100,min=0)\n",
    "print(scores)\n",
    "\n",
    "if scores >= 90:\n",
    "    print(\"優\")\n",
    "elif scores >=80:\n",
    "    print(\"甲\")\n",
    "elif scores >=70:\n",
    "    print(\"乙\")\n",
    "elif scores >=60:\n",
    "    print(\"丙\")\n",
    "elif scores >=50:\n",
    "    print(\"丁\")"
   ]
  },
  {
   "cell_type": "code",
   "execution_count": 6,
   "metadata": {},
   "outputs": [
    {
     "name": "stdout",
     "output_type": "stream",
     "text": [
      "請輸入年齡:北賽垮\n"
     ]
    }
   ],
   "source": [
    "#限制級:18歲或以上皆可欣賞\n",
    "#輔導級:13歲(含)~17歲以上皆可欣賞\n",
    "#普遍級:12歲(含)以下皆可欣賞\n",
    "\n",
    "age = pyip.inputInt(\"請輸入年齡:\",max=100,min=0,blank=True)\n",
    "\n",
    "#空字串\n",
    "if (age) == \"\":\n",
    "    print(\"青菜垮\")\n",
    "elif age > 18:\n",
    "    print(\"北賽垮\")\n",
    "elif age >= 13:\n",
    "    print(\"燒燒A況垮\")\n",
    "else:\n",
    "    print(\"阿公揪阿罵來誇\")\n"
   ]
  },
  {
   "cell_type": "code",
   "execution_count": 14,
   "metadata": {},
   "outputs": [
    {
     "name": "stdout",
     "output_type": "stream",
     "text": [
      "請問是否加分(y,n)):yes\n",
      "加分\n"
     ]
    }
   ],
   "source": [
    "#邏輯運算子\n",
    "#and 左右兩個條件若都為真則真~否則為假\n",
    "#or 左右兩個條件只要一個為真就是真~否則為假\n",
    "#not 條件若為真改為假，若為假則改為真\n",
    "\n",
    "import pyinputplus as pyip\n",
    "\n",
    "is_yes = pyip.inputYesNo(\"請問是否加分(y,n)):\")\n",
    "print(is_yes)\n",
    "if is_yes == \"yes\":\n",
    "    print(\"加分\")\n",
    "else:\n",
    "    print(\"No\")\n"
   ]
  },
  {
   "cell_type": "code",
   "execution_count": 15,
   "metadata": {},
   "outputs": [
    {
     "name": "stdout",
     "output_type": "stream",
     "text": [
      "請問是否加分(y,n)):No\n"
     ]
    }
   ],
   "source": [
    "import pyinputplus as pyip\n",
    "is_yes = pyip.inputYesNo(\"請問是否加分(y,n)):\")\n",
    "if not (is_yes == \"yes\"):\n",
    "    print(\"No\")\n",
    "else:\n",
    "    print(\"加分\")\n",
    "        "
   ]
  },
  {
   "cell_type": "code",
   "execution_count": 22,
   "metadata": {},
   "outputs": [
    {
     "name": "stdout",
     "output_type": "stream",
     "text": [
      "請輸入國文分數:請輸入數學分數:獎金:500\n"
     ]
    }
   ],
   "source": [
    "#國文100,同時數學100,獎金1000\n",
    "#國文100,同時數學100,獎金500\n",
    "#其他獎金0\n",
    "\n",
    "chinese = pyip.inputInt(\"請輸入國文分數:\",min=0,max=100)\n",
    "math = pyip.inputInt(\"請輸入數學分數:\",min=0,max=100)\n",
    "bonus = 0 \n",
    "\n",
    "#巢狀判斷\n",
    "\n",
    "if chinese == 100:\n",
    "    if math == 100:\n",
    "        bouns = 1000\n",
    "    else:\n",
    "            bouns = 500\n",
    "elif math == 100:\n",
    "    bouns = 500\n",
    "\n",
    "print(f\"獎金:{bouns}\")\n"
   ]
  },
  {
   "cell_type": "code",
   "execution_count": 24,
   "metadata": {},
   "outputs": [
    {
     "name": "stdout",
     "output_type": "stream",
     "text": [
      "請輸入國文分數:請輸入數學分數:獎金:1000\n"
     ]
    }
   ],
   "source": [
    "#國文100,同時數學100,獎金1000\n",
    "#國文100,同時數學100,獎金500\n",
    "#其他獎金0\n",
    "\n",
    "chinese = pyip.inputInt(\"請輸入國文分數:\",min=0,max=100)\n",
    "math = pyip.inputInt(\"請輸入數學分數:\",min=0,max=100)\n",
    "bonus = 0 \n",
    "\n",
    "#邏輯運算子\n",
    "\n",
    "if chinese == 100 and math ==100:\n",
    "    bouns = 1000\n",
    "elif  chinese == 100 or math ==100:\n",
    "    bouns =500    \n",
    "\n",
    "print(f\"獎金:{bouns}\")\n",
    "\n"
   ]
  },
  {
   "cell_type": "code",
   "execution_count": 25,
   "metadata": {},
   "outputs": [
    {
     "name": "stdout",
     "output_type": "stream",
     "text": [
      "1...10的總合是:55\n"
     ]
    }
   ],
   "source": [
    "#迴圈 Loop\n",
    "\n",
    "#for in 明確知道執行的次數/ for 自訂變數in:1.序列資料 2.map資料\n",
    "#while 不知道執行的次數\n",
    "#1加到10的總和\n",
    "\n",
    "value = 0\n",
    "value += 1\n",
    "value += 2\n",
    "value += 3\n",
    "value += 4\n",
    "value += 5\n",
    "value += 6\n",
    "value += 7\n",
    "value += 8\n",
    "value += 9\n",
    "value += 10\n",
    "\n",
    "print(f\"1...10的總合是:{value}\")\n",
    "\n"
   ]
  },
  {
   "cell_type": "code",
   "execution_count": 28,
   "metadata": {},
   "outputs": [
    {
     "name": "stdout",
     "output_type": "stream",
     "text": [
      "1..1000的總和是:4950\n"
     ]
    }
   ],
   "source": [
    "#1加到10的總和\n",
    "#感覺好用~\n",
    "\n",
    "\n",
    "\n",
    "value = 0\n",
    "for i in range(1,100):\n",
    "    value += i\n",
    "\n",
    "print(f\"1..1000的總和是:{value}\")\n"
   ]
  },
  {
   "cell_type": "code",
   "execution_count": 4,
   "metadata": {},
   "outputs": [
    {
     "name": "stdout",
     "output_type": "stream",
     "text": [
      "請輸入起始值:(0以上)2000\n",
      "請輸入結束值:(10000以下)3000\n",
      "2000..end=3000]的總和是:2502500\n"
     ]
    }
   ],
   "source": [
    "#1加到1000的總和\n",
    "import pyinputplus as pyip\n",
    "start = pyip.inputInt(\"請輸入起始值:(0以上)\",min=0,max=10000)\n",
    "print(start)\n",
    "end = pyip.inputInt(\"請輸入結束值:(10000以下)\",min=1,max=10000)\n",
    "print(end)\n",
    "value = 0\n",
    "for i in range(start,end+1):\n",
    "    value += i\n",
    "\n",
    "print(f\"{start}..{end=}]的總和是:{value}\")\n"
   ]
  },
  {
   "cell_type": "code",
   "execution_count": 9,
   "metadata": {},
   "outputs": [
    {
     "name": "stdout",
     "output_type": "stream",
     "text": [
      "i=1\n",
      "j=1 j=2 j=3 j=4 j=5 j=6 j=7 j=8 j=9 \n",
      "===============\n",
      "i=2\n",
      "j=1 j=2 j=3 j=4 j=5 j=6 j=7 j=8 j=9 \n",
      "===============\n",
      "i=3\n",
      "j=1 j=2 j=3 j=4 j=5 j=6 j=7 j=8 j=9 \n",
      "===============\n",
      "i=4\n",
      "j=1 j=2 j=3 j=4 j=5 j=6 j=7 j=8 j=9 \n",
      "===============\n",
      "i=5\n",
      "j=1 j=2 j=3 j=4 j=5 j=6 j=7 j=8 j=9 \n",
      "===============\n",
      "i=6\n",
      "j=1 j=2 j=3 j=4 j=5 j=6 j=7 j=8 j=9 \n",
      "===============\n",
      "i=7\n",
      "j=1 j=2 j=3 j=4 j=5 j=6 j=7 j=8 j=9 \n",
      "===============\n",
      "i=8\n",
      "j=1 j=2 j=3 j=4 j=5 j=6 j=7 j=8 j=9 \n",
      "===============\n",
      "i=9\n",
      "j=1 j=2 j=3 j=4 j=5 j=6 j=7 j=8 j=9 \n",
      "===============\n"
     ]
    }
   ],
   "source": [
    "#巢狀迴圈/外部迴圈/內部迴圈\n",
    "\n",
    "for i in range(1,10) :\n",
    "    print(f\"i={i}\")\n",
    "    for j in range(1,10):\n",
    "        print(f\"j={j}\",end=' ')\n",
    "    print(\"\\n===============\")    "
   ]
  },
  {
   "cell_type": "code",
   "execution_count": 16,
   "metadata": {},
   "outputs": [
    {
     "name": "stdout",
     "output_type": "stream",
     "text": [
      "1 * 1= 1 1 * 2= 2 1 * 3= 3 1 * 4= 4 1 * 5= 5 1 * 6= 6 1 * 7= 7 1 * 8= 8 1 * 9= 9 \n",
      "2 * 1= 2 2 * 2= 4 2 * 3= 6 2 * 4= 8 2 * 5=10 2 * 6=12 2 * 7=14 2 * 8=16 2 * 9=18 \n",
      "3 * 1= 3 3 * 2= 6 3 * 3= 9 3 * 4=12 3 * 5=15 3 * 6=18 3 * 7=21 3 * 8=24 3 * 9=27 \n",
      "4 * 1= 4 4 * 2= 8 4 * 3=12 4 * 4=16 4 * 5=20 4 * 6=24 4 * 7=28 4 * 8=32 4 * 9=36 \n",
      "5 * 1= 5 5 * 2=10 5 * 3=15 5 * 4=20 5 * 5=25 5 * 6=30 5 * 7=35 5 * 8=40 5 * 9=45 \n",
      "6 * 1= 6 6 * 2=12 6 * 3=18 6 * 4=24 6 * 5=30 6 * 6=36 6 * 7=42 6 * 8=48 6 * 9=54 \n",
      "7 * 1= 7 7 * 2=14 7 * 3=21 7 * 4=28 7 * 5=35 7 * 6=42 7 * 7=49 7 * 8=56 7 * 9=63 \n",
      "8 * 1= 8 8 * 2=16 8 * 3=24 8 * 4=32 8 * 5=40 8 * 6=48 8 * 7=56 8 * 8=64 8 * 9=72 \n",
      "9 * 1= 9 9 * 2=18 9 * 3=27 9 * 4=36 9 * 5=45 9 * 6=54 9 * 7=63 9 * 8=72 9 * 9=81 \n"
     ]
    }
   ],
   "source": [
    "for i in range(1,10) :\n",
    "    for j in range(1,10):\n",
    "\n",
    "        #:<2 代表i迴圈字串靠左-有兩字元\n",
    "         #:2 代表j迴圈字串靠右-有兩字元 \n",
    "        print(f\"{i:<2}*{j:2}={i*j:2}\",end=' ')\n",
    "    print()    "
   ]
  },
  {
   "cell_type": "code",
   "execution_count": 17,
   "metadata": {},
   "outputs": [
    {
     "data": {
      "text/plain": [
       "55"
      ]
     },
     "execution_count": 17,
     "metadata": {},
     "output_type": "execute_result"
    }
   ],
   "source": [
    "#while 布林值,若是true會往下執行,明確知道執行的次數\n",
    "#1.建立一個被比較的變數 2.比較變數 改變比較變數的值\n",
    "#但比較保險可用for in 做~不然會做到無限迴圈\n",
    "\n",
    "\n",
    "value = 0\n",
    "i = 1\n",
    "while i <=10:\n",
    "    value += i\n",
    "    i += 1\n",
    "value"
   ]
  },
  {
   "cell_type": "code",
   "execution_count": 18,
   "metadata": {},
   "outputs": [
    {
     "name": "stdout",
     "output_type": "stream",
     "text": [
      "請輸本月份的存款請輸本月份的存款恭喜!已經存夠了,總存款為40000\n"
     ]
    }
   ],
   "source": [
    "#小明想要存錢買一輛機車,機車每輛3萬,他將每月存的錢輸入,當存款足夠買車的時候,就顯示訊告知。\n",
    "import pyinputplus as pyip\n",
    "\n",
    "deposit = 0\n",
    "while(deposit <30000):\n",
    "    month_value = pyip.inputInt(\"請輸本月份的存款\")\n",
    "    deposit +=month_value\n",
    "print(f\"恭喜!已經存夠了,總存款為{deposit}\")\n"
   ]
  },
  {
   "cell_type": "code",
   "execution_count": 1,
   "metadata": {},
   "outputs": [
    {
     "name": "stdout",
     "output_type": "stream",
     "text": [
      "請輸本月份的存款Blank values are not allowed.\n",
      "請輸本月份的存款100\n",
      "請輸本月份的存款100\n",
      "請輸本月份的存款100\n",
      "請輸本月份的存款100\n",
      "請輸本月份的存款100\n",
      "請輸本月份的存款100\n",
      "請輸本月份的存款"
     ]
    }
   ],
   "source": [
    "import pyinputplus as pyip\n",
    "\n",
    "num = 0\n",
    "deposit = 0\n",
    "while(deposit <30000):\n",
    "    num +=1\n",
    "    month_value = pyip.inputInt(\"請輸本月份的存款\")\n",
    "    print(month_value)\n",
    "    deposit += month_value\n",
    "\n",
    "print(f\"恭喜!已經存夠了,共存了{num}月，總存款為{deposit}\")\n"
   ]
  },
  {
   "cell_type": "code",
   "execution_count": 10,
   "metadata": {},
   "outputs": [
    {
     "ename": "NameError",
     "evalue": "name 'pyip' is not defined",
     "output_type": "error",
     "traceback": [
      "\u001b[0;31m---------------------------------------------------------------------------\u001b[0m",
      "\u001b[0;31mNameError\u001b[0m                                 Traceback (most recent call last)",
      "\u001b[1;32m/workspaces/PICO_W/lesson5_1.ipynb 儲存格 17\u001b[0m line \u001b[0;36m8\n\u001b[1;32m      <a href='vscode-notebook-cell://codespaces%2Bliterate-acorn-p5gvvg957pv26vgv/workspaces/PICO_W/lesson5_1.ipynb#X23sdnNjb2RlLXJlbW90ZQ%3D%3D?line=5'>6</a>\u001b[0m num \u001b[39m=\u001b[39m \u001b[39m0\u001b[39m\n\u001b[1;32m      <a href='vscode-notebook-cell://codespaces%2Bliterate-acorn-p5gvvg957pv26vgv/workspaces/PICO_W/lesson5_1.ipynb#X23sdnNjb2RlLXJlbW90ZQ%3D%3D?line=6'>7</a>\u001b[0m \u001b[39mwhile\u001b[39;00m(\u001b[39mTrue\u001b[39;00m):    \n\u001b[0;32m----> <a href='vscode-notebook-cell://codespaces%2Bliterate-acorn-p5gvvg957pv26vgv/workspaces/PICO_W/lesson5_1.ipynb#X23sdnNjb2RlLXJlbW90ZQ%3D%3D?line=7'>8</a>\u001b[0m     inputValue \u001b[39m=\u001b[39m pyip\u001b[39m.\u001b[39minputInt(\u001b[39m\"\u001b[39m\u001b[39m請輸入學生成績:\u001b[39m\u001b[39m\"\u001b[39m)\n\u001b[1;32m      <a href='vscode-notebook-cell://codespaces%2Bliterate-acorn-p5gvvg957pv26vgv/workspaces/PICO_W/lesson5_1.ipynb#X23sdnNjb2RlLXJlbW90ZQ%3D%3D?line=8'>9</a>\u001b[0m     \u001b[39mprint\u001b[39m(inputValue)       \n\u001b[1;32m     <a href='vscode-notebook-cell://codespaces%2Bliterate-acorn-p5gvvg957pv26vgv/workspaces/PICO_W/lesson5_1.ipynb#X23sdnNjb2RlLXJlbW90ZQ%3D%3D?line=9'>10</a>\u001b[0m     \u001b[39mif\u001b[39;00m inputValue \u001b[39m<\u001b[39m \u001b[39m0\u001b[39m:\n",
      "\u001b[0;31mNameError\u001b[0m: name 'pyip' is not defined"
     ]
    }
   ],
   "source": [
    "#小美是一位教師，請你以while迴圈方式為小美設計一個輸入成績的程式，如果輸入負數表示成績輸入結束，在輸入成績結束後顯示班上總成績及平均成績。\n",
    "#不能執行~??????\n",
    "#\n",
    "\n",
    "sum = 0\n",
    "num = 0\n",
    "while(True):    \n",
    "    inputValue = pyip.inputInt(\"請輸入學生成績:\")\n",
    "    print(inputValue)       \n",
    "    if inputValue < 0:\n",
    "        break\n",
    "    \n",
    "    num += 1 \n",
    "    sum += inputValue\n",
    "\n",
    "print(f\"學生總分為:{sum},學生平均為:{sum/num}\")"
   ]
  },
  {
   "cell_type": "code",
   "execution_count": 15,
   "metadata": {},
   "outputs": [
    {
     "name": "stdout",
     "output_type": "stream",
     "text": [
      "5的平方是25\n",
      "應用程式結束\n"
     ]
    },
    {
     "ename": "KeyboardInterrupt",
     "evalue": "Interrupted by user",
     "output_type": "error",
     "traceback": [
      "\u001b[0;31m---------------------------------------------------------------------------\u001b[0m",
      "\u001b[0;31mKeyboardInterrupt\u001b[0m                         Traceback (most recent call last)",
      "\u001b[1;32m/workspaces/PICO_W/lesson5_1.ipynb 儲存格 18\u001b[0m line \u001b[0;36m6\n\u001b[1;32m      <a href='vscode-notebook-cell://codespaces%2Bliterate-acorn-p5gvvg957pv26vgv/workspaces/PICO_W/lesson5_1.ipynb#X24sdnNjb2RlLXJlbW90ZQ%3D%3D?line=0'>1</a>\u001b[0m \u001b[39m#顯示\u001b[39;00m\n\u001b[1;32m      <a href='vscode-notebook-cell://codespaces%2Bliterate-acorn-p5gvvg957pv26vgv/workspaces/PICO_W/lesson5_1.ipynb#X24sdnNjb2RlLXJlbW90ZQ%3D%3D?line=1'>2</a>\u001b[0m \u001b[39m#奇數輸出平方\u001b[39;00m\n\u001b[1;32m      <a href='vscode-notebook-cell://codespaces%2Bliterate-acorn-p5gvvg957pv26vgv/workspaces/PICO_W/lesson5_1.ipynb#X24sdnNjb2RlLXJlbW90ZQ%3D%3D?line=2'>3</a>\u001b[0m \u001b[39m#偶數不做任何動作\u001b[39;00m\n\u001b[1;32m      <a href='vscode-notebook-cell://codespaces%2Bliterate-acorn-p5gvvg957pv26vgv/workspaces/PICO_W/lesson5_1.ipynb#X24sdnNjb2RlLXJlbW90ZQ%3D%3D?line=3'>4</a>\u001b[0m \u001b[39m#'q'要離開\u001b[39;00m\n\u001b[1;32m      <a href='vscode-notebook-cell://codespaces%2Bliterate-acorn-p5gvvg957pv26vgv/workspaces/PICO_W/lesson5_1.ipynb#X24sdnNjb2RlLXJlbW90ZQ%3D%3D?line=4'>5</a>\u001b[0m \u001b[39mwhile\u001b[39;00m(\u001b[39mTrue\u001b[39;00m):\n\u001b[0;32m----> <a href='vscode-notebook-cell://codespaces%2Bliterate-acorn-p5gvvg957pv26vgv/workspaces/PICO_W/lesson5_1.ipynb#X24sdnNjb2RlLXJlbW90ZQ%3D%3D?line=5'>6</a>\u001b[0m     value \u001b[39m=\u001b[39m \u001b[39minput\u001b[39;49m(\u001b[39m\"\u001b[39;49m\u001b[39m請輸入整數,輸入[q]離開:\u001b[39;49m\u001b[39m\"\u001b[39;49m)\n\u001b[1;32m      <a href='vscode-notebook-cell://codespaces%2Bliterate-acorn-p5gvvg957pv26vgv/workspaces/PICO_W/lesson5_1.ipynb#X24sdnNjb2RlLXJlbW90ZQ%3D%3D?line=6'>7</a>\u001b[0m     \u001b[39mif\u001b[39;00m value \u001b[39m==\u001b[39m \u001b[39m\"\u001b[39m\u001b[39mq\u001b[39m\u001b[39m\"\u001b[39m:\n\u001b[1;32m      <a href='vscode-notebook-cell://codespaces%2Bliterate-acorn-p5gvvg957pv26vgv/workspaces/PICO_W/lesson5_1.ipynb#X24sdnNjb2RlLXJlbW90ZQ%3D%3D?line=7'>8</a>\u001b[0m         \u001b[39mbreak\u001b[39;00m\n",
      "File \u001b[0;32m~/.local/lib/python3.10/site-packages/ipykernel/kernelbase.py:1251\u001b[0m, in \u001b[0;36mKernel.raw_input\u001b[0;34m(self, prompt)\u001b[0m\n\u001b[1;32m   1249\u001b[0m     msg \u001b[39m=\u001b[39m \u001b[39m\"\u001b[39m\u001b[39mraw_input was called, but this frontend does not support input requests.\u001b[39m\u001b[39m\"\u001b[39m\n\u001b[1;32m   1250\u001b[0m     \u001b[39mraise\u001b[39;00m StdinNotImplementedError(msg)\n\u001b[0;32m-> 1251\u001b[0m \u001b[39mreturn\u001b[39;00m \u001b[39mself\u001b[39;49m\u001b[39m.\u001b[39;49m_input_request(\n\u001b[1;32m   1252\u001b[0m     \u001b[39mstr\u001b[39;49m(prompt),\n\u001b[1;32m   1253\u001b[0m     \u001b[39mself\u001b[39;49m\u001b[39m.\u001b[39;49m_parent_ident[\u001b[39m\"\u001b[39;49m\u001b[39mshell\u001b[39;49m\u001b[39m\"\u001b[39;49m],\n\u001b[1;32m   1254\u001b[0m     \u001b[39mself\u001b[39;49m\u001b[39m.\u001b[39;49mget_parent(\u001b[39m\"\u001b[39;49m\u001b[39mshell\u001b[39;49m\u001b[39m\"\u001b[39;49m),\n\u001b[1;32m   1255\u001b[0m     password\u001b[39m=\u001b[39;49m\u001b[39mFalse\u001b[39;49;00m,\n\u001b[1;32m   1256\u001b[0m )\n",
      "File \u001b[0;32m~/.local/lib/python3.10/site-packages/ipykernel/kernelbase.py:1295\u001b[0m, in \u001b[0;36mKernel._input_request\u001b[0;34m(self, prompt, ident, parent, password)\u001b[0m\n\u001b[1;32m   1292\u001b[0m \u001b[39mexcept\u001b[39;00m \u001b[39mKeyboardInterrupt\u001b[39;00m:\n\u001b[1;32m   1293\u001b[0m     \u001b[39m# re-raise KeyboardInterrupt, to truncate traceback\u001b[39;00m\n\u001b[1;32m   1294\u001b[0m     msg \u001b[39m=\u001b[39m \u001b[39m\"\u001b[39m\u001b[39mInterrupted by user\u001b[39m\u001b[39m\"\u001b[39m\n\u001b[0;32m-> 1295\u001b[0m     \u001b[39mraise\u001b[39;00m \u001b[39mKeyboardInterrupt\u001b[39;00m(msg) \u001b[39mfrom\u001b[39;00m \u001b[39mNone\u001b[39;00m\n\u001b[1;32m   1296\u001b[0m \u001b[39mexcept\u001b[39;00m \u001b[39mException\u001b[39;00m:\n\u001b[1;32m   1297\u001b[0m     \u001b[39mself\u001b[39m\u001b[39m.\u001b[39mlog\u001b[39m.\u001b[39mwarning(\u001b[39m\"\u001b[39m\u001b[39mInvalid Message:\u001b[39m\u001b[39m\"\u001b[39m, exc_info\u001b[39m=\u001b[39m\u001b[39mTrue\u001b[39;00m)\n",
      "\u001b[0;31mKeyboardInterrupt\u001b[0m: Interrupted by user"
     ]
    }
   ],
   "source": [
    "#顯示\n",
    "#奇數輸出平方\n",
    "#偶數不做任何動作\n",
    "#'q'要離開\n",
    "while(True):\n",
    "    value = input(\"請輸入整數,輸入[q]離開:\")\n",
    "    if value == \"q\":\n",
    "        break\n",
    "    try:\n",
    "        valueInt = int(value)\n",
    "    except:\n",
    "        print(\"輸入錯誤,請重新輸入\")\n",
    "        continue\n",
    "\n",
    "    if (valueInt % 2) == 1:\n",
    "        print(f\"{valueInt}的平方是{valueInt ** 2}\")\n",
    "    else:\n",
    "        print(\"不做事\")\n",
    "\n",
    "    print(\"應用程式結束\")\n",
    "    "
   ]
  },
  {
   "cell_type": "code",
   "execution_count": 20,
   "metadata": {},
   "outputs": [
    {
     "data": {
      "text/plain": [
       "44"
      ]
     },
     "execution_count": 20,
     "metadata": {},
     "output_type": "execute_result"
    }
   ],
   "source": [
    "#亂數的建立\n",
    "import random\n",
    "min = 1\n",
    "max = 100\n",
    "randomNum = random.randint(min,max)\n",
    "randomNum"
   ]
  },
  {
   "cell_type": "code",
   "execution_count": 3,
   "metadata": {},
   "outputs": [
    {
     "name": "stdout",
     "output_type": "stream",
     "text": [
      "===============猜數字遊戲==================\n",
      "猜數字遊1~10:再key小一點\n",
      "你已經猜了0次\n",
      "猜數字遊1~4:你已經猜了0次\n",
      "猜數字遊1~4:再key大一點\n",
      "你已經猜了0次\n",
      "猜數字遊3~4:你已經猜了0次\n",
      "猜數字遊3~4:再key小一點\n",
      "你已經猜了0次\n",
      "猜數字遊3~3:Number must be at maximum 3.\n",
      "猜數字遊3~3:你已經猜了0次\n",
      "猜數字遊3~3:Blank values are not allowed.\n",
      "猜數字遊3~3:Blank values are not allowed.\n",
      "猜數字遊3~3:Blank values are not allowed.\n",
      "猜數字遊3~3:Blank values are not allowed.\n",
      "猜數字遊3~3:Blank values are not allowed.\n",
      "猜數字遊3~3:Blank values are not allowed.\n",
      "猜數字遊3~3:Blank values are not allowed.\n",
      "猜數字遊3~3:Blank values are not allowed.\n",
      "猜數字遊3~3:Blank values are not allowed.\n",
      "猜數字遊3~3:Blank values are not allowed.\n",
      "猜數字遊3~3:Blank values are not allowed.\n",
      "猜數字遊3~3:Blank values are not allowed.\n",
      "猜數字遊3~3:Blank values are not allowed.\n",
      "猜數字遊3~3:Blank values are not allowed.\n",
      "猜數字遊3~3:Blank values are not allowed.\n",
      "猜數字遊3~3:Blank values are not allowed.\n",
      "猜數字遊3~3:Blank values are not allowed.\n",
      "猜數字遊3~3:Blank values are not allowed.\n",
      "猜數字遊3~3:Blank values are not allowed.\n",
      "猜數字遊3~3:Blank values are not allowed.\n",
      "猜數字遊3~3:Blank values are not allowed.\n",
      "猜數字遊3~3:Blank values are not allowed.\n",
      "猜數字遊3~3:Blank values are not allowed.\n",
      "猜數字遊3~3:Blank values are not allowed.\n",
      "猜數字遊3~3:"
     ]
    },
    {
     "ename": "KeyboardInterrupt",
     "evalue": "Interrupted by user",
     "output_type": "error",
     "traceback": [
      "\u001b[0;31m---------------------------------------------------------------------------\u001b[0m",
      "\u001b[0;31mKeyboardInterrupt\u001b[0m                         Traceback (most recent call last)",
      "\u001b[1;32m/workspaces/PICO_W/lesson5_1.ipynb 儲存格 20\u001b[0m line \u001b[0;36m1\n\u001b[1;32m     <a href='vscode-notebook-cell://codespaces%2Bliterate-acorn-p5gvvg957pv26vgv/workspaces/PICO_W/lesson5_1.ipynb#X26sdnNjb2RlLXJlbW90ZQ%3D%3D?line=9'>10</a>\u001b[0m \u001b[39mprint\u001b[39m(\u001b[39m\"\u001b[39m\u001b[39m===============猜數字遊戲==================\u001b[39m\u001b[39m\"\u001b[39m)\n\u001b[1;32m     <a href='vscode-notebook-cell://codespaces%2Bliterate-acorn-p5gvvg957pv26vgv/workspaces/PICO_W/lesson5_1.ipynb#X26sdnNjb2RlLXJlbW90ZQ%3D%3D?line=10'>11</a>\u001b[0m \u001b[39mwhile\u001b[39;00m \u001b[39mTrue\u001b[39;00m:\n\u001b[0;32m---> <a href='vscode-notebook-cell://codespaces%2Bliterate-acorn-p5gvvg957pv26vgv/workspaces/PICO_W/lesson5_1.ipynb#X26sdnNjb2RlLXJlbW90ZQ%3D%3D?line=11'>12</a>\u001b[0m     keyin \u001b[39m=\u001b[39m pyip\u001b[39m.\u001b[39;49minputInt(\u001b[39mf\u001b[39;49m\u001b[39m\"\u001b[39;49m\u001b[39m猜數字遊\u001b[39;49m\u001b[39m{\u001b[39;49;00m\u001b[39mmin\u001b[39;49m\u001b[39m}\u001b[39;49;00m\u001b[39m~\u001b[39;49m\u001b[39m{\u001b[39;49;00m\u001b[39mmax\u001b[39;49m\u001b[39m}\u001b[39;49;00m\u001b[39m:\u001b[39;49m\u001b[39m\"\u001b[39;49m,\u001b[39mmin\u001b[39;49m\u001b[39m=\u001b[39;49m\u001b[39mmin\u001b[39;49m,\u001b[39mmax\u001b[39;49m\u001b[39m=\u001b[39;49m\u001b[39mmax\u001b[39;49m)\n\u001b[1;32m     <a href='vscode-notebook-cell://codespaces%2Bliterate-acorn-p5gvvg957pv26vgv/workspaces/PICO_W/lesson5_1.ipynb#X26sdnNjb2RlLXJlbW90ZQ%3D%3D?line=12'>13</a>\u001b[0m     \u001b[39mif\u001b[39;00m(keyin \u001b[39m==\u001b[39m random):\n\u001b[1;32m     <a href='vscode-notebook-cell://codespaces%2Bliterate-acorn-p5gvvg957pv26vgv/workspaces/PICO_W/lesson5_1.ipynb#X26sdnNjb2RlLXJlbW90ZQ%3D%3D?line=13'>14</a>\u001b[0m         \u001b[39mprint\u001b[39m(\u001b[39mf\u001b[39m\u001b[39m\"\u001b[39m\u001b[39m賓果!猜對了,答案是\u001b[39m\u001b[39m{\u001b[39;00mrandomNum\u001b[39m}\u001b[39;00m\u001b[39m\"\u001b[39m)\n",
      "File \u001b[0;32m~/.local/lib/python3.10/site-packages/pyinputplus/__init__.py:486\u001b[0m, in \u001b[0;36minputInt\u001b[0;34m(prompt, default, blank, timeout, limit, strip, allowRegexes, blockRegexes, applyFunc, postValidateApplyFunc, min, max, lessThan, greaterThan)\u001b[0m\n\u001b[1;32m    471\u001b[0m pysv\u001b[39m.\u001b[39m_validateParamsFor_validateNum(\u001b[39mmin\u001b[39m\u001b[39m=\u001b[39m\u001b[39mmin\u001b[39m, \u001b[39mmax\u001b[39m\u001b[39m=\u001b[39m\u001b[39mmax\u001b[39m, lessThan\u001b[39m=\u001b[39mlessThan, greaterThan\u001b[39m=\u001b[39mgreaterThan)\n\u001b[1;32m    473\u001b[0m validationFunc \u001b[39m=\u001b[39m \u001b[39mlambda\u001b[39;00m value: pysv\u001b[39m.\u001b[39mvalidateNum(\n\u001b[1;32m    474\u001b[0m     value,\n\u001b[1;32m    475\u001b[0m     blank\u001b[39m=\u001b[39mblank,\n\u001b[0;32m   (...)\u001b[0m\n\u001b[1;32m    483\u001b[0m     _numType\u001b[39m=\u001b[39m\u001b[39m\"\u001b[39m\u001b[39mint\u001b[39m\u001b[39m\"\u001b[39m,\n\u001b[1;32m    484\u001b[0m )\n\u001b[0;32m--> 486\u001b[0m result \u001b[39m=\u001b[39m _genericInput(\n\u001b[1;32m    487\u001b[0m     prompt\u001b[39m=\u001b[39;49mprompt,\n\u001b[1;32m    488\u001b[0m     default\u001b[39m=\u001b[39;49mdefault,\n\u001b[1;32m    489\u001b[0m     timeout\u001b[39m=\u001b[39;49mtimeout,\n\u001b[1;32m    490\u001b[0m     limit\u001b[39m=\u001b[39;49mlimit,\n\u001b[1;32m    491\u001b[0m     applyFunc\u001b[39m=\u001b[39;49mapplyFunc,\n\u001b[1;32m    492\u001b[0m     validationFunc\u001b[39m=\u001b[39;49mvalidationFunc,\n\u001b[1;32m    493\u001b[0m )\n\u001b[1;32m    495\u001b[0m \u001b[39mtry\u001b[39;00m:\n\u001b[1;32m    496\u001b[0m     result \u001b[39m=\u001b[39m \u001b[39mint\u001b[39m(\u001b[39mfloat\u001b[39m(result))\n",
      "File \u001b[0;32m~/.local/lib/python3.10/site-packages/pyinputplus/__init__.py:156\u001b[0m, in \u001b[0;36m_genericInput\u001b[0;34m(prompt, default, timeout, limit, applyFunc, validationFunc, postValidateApplyFunc, passwordMask)\u001b[0m\n\u001b[1;32m    154\u001b[0m \u001b[39mprint\u001b[39m(prompt, end\u001b[39m=\u001b[39m\u001b[39m\"\u001b[39m\u001b[39m\"\u001b[39m)\n\u001b[1;32m    155\u001b[0m \u001b[39mif\u001b[39;00m passwordMask \u001b[39mis\u001b[39;00m \u001b[39mNone\u001b[39;00m:\n\u001b[0;32m--> 156\u001b[0m     userInput \u001b[39m=\u001b[39m \u001b[39minput\u001b[39;49m()\n\u001b[1;32m    157\u001b[0m \u001b[39melse\u001b[39;00m:\n\u001b[1;32m    158\u001b[0m     userInput \u001b[39m=\u001b[39m stdiomask\u001b[39m.\u001b[39mgetpass(prompt\u001b[39m=\u001b[39m\u001b[39m\"\u001b[39m\u001b[39m\"\u001b[39m, mask\u001b[39m=\u001b[39mpasswordMask)\n",
      "File \u001b[0;32m~/.local/lib/python3.10/site-packages/ipykernel/kernelbase.py:1251\u001b[0m, in \u001b[0;36mKernel.raw_input\u001b[0;34m(self, prompt)\u001b[0m\n\u001b[1;32m   1249\u001b[0m     msg \u001b[39m=\u001b[39m \u001b[39m\"\u001b[39m\u001b[39mraw_input was called, but this frontend does not support input requests.\u001b[39m\u001b[39m\"\u001b[39m\n\u001b[1;32m   1250\u001b[0m     \u001b[39mraise\u001b[39;00m StdinNotImplementedError(msg)\n\u001b[0;32m-> 1251\u001b[0m \u001b[39mreturn\u001b[39;00m \u001b[39mself\u001b[39;49m\u001b[39m.\u001b[39;49m_input_request(\n\u001b[1;32m   1252\u001b[0m     \u001b[39mstr\u001b[39;49m(prompt),\n\u001b[1;32m   1253\u001b[0m     \u001b[39mself\u001b[39;49m\u001b[39m.\u001b[39;49m_parent_ident[\u001b[39m\"\u001b[39;49m\u001b[39mshell\u001b[39;49m\u001b[39m\"\u001b[39;49m],\n\u001b[1;32m   1254\u001b[0m     \u001b[39mself\u001b[39;49m\u001b[39m.\u001b[39;49mget_parent(\u001b[39m\"\u001b[39;49m\u001b[39mshell\u001b[39;49m\u001b[39m\"\u001b[39;49m),\n\u001b[1;32m   1255\u001b[0m     password\u001b[39m=\u001b[39;49m\u001b[39mFalse\u001b[39;49;00m,\n\u001b[1;32m   1256\u001b[0m )\n",
      "File \u001b[0;32m~/.local/lib/python3.10/site-packages/ipykernel/kernelbase.py:1295\u001b[0m, in \u001b[0;36mKernel._input_request\u001b[0;34m(self, prompt, ident, parent, password)\u001b[0m\n\u001b[1;32m   1292\u001b[0m \u001b[39mexcept\u001b[39;00m \u001b[39mKeyboardInterrupt\u001b[39;00m:\n\u001b[1;32m   1293\u001b[0m     \u001b[39m# re-raise KeyboardInterrupt, to truncate traceback\u001b[39;00m\n\u001b[1;32m   1294\u001b[0m     msg \u001b[39m=\u001b[39m \u001b[39m\"\u001b[39m\u001b[39mInterrupted by user\u001b[39m\u001b[39m\"\u001b[39m\n\u001b[0;32m-> 1295\u001b[0m     \u001b[39mraise\u001b[39;00m \u001b[39mKeyboardInterrupt\u001b[39;00m(msg) \u001b[39mfrom\u001b[39;00m \u001b[39mNone\u001b[39;00m\n\u001b[1;32m   1296\u001b[0m \u001b[39mexcept\u001b[39;00m \u001b[39mException\u001b[39;00m:\n\u001b[1;32m   1297\u001b[0m     \u001b[39mself\u001b[39m\u001b[39m.\u001b[39mlog\u001b[39m.\u001b[39mwarning(\u001b[39m\"\u001b[39m\u001b[39mInvalid Message:\u001b[39m\u001b[39m\"\u001b[39m, exc_info\u001b[39m=\u001b[39m\u001b[39mTrue\u001b[39;00m)\n",
      "\u001b[0;31mKeyboardInterrupt\u001b[0m: Interrupted by user"
     ]
    }
   ],
   "source": [
    "#亂數的建立\n",
    "import random\n",
    "import pyinputplus as pyip\n",
    "\n",
    "min = 1\n",
    "max = 10\n",
    "count = 0\n",
    "randomNum = random.randint(min,max)\n",
    "\n",
    "print(\"===============猜數字遊戲==================\")\n",
    "while True:\n",
    "    keyin = pyip.inputInt(f\"猜數字遊{min}~{max}:\",min=min,max=max)\n",
    "    if(keyin == random):\n",
    "        print(f\"賓果!猜對了,答案是{randomNum}\")\n",
    "        print(f\"你猜對了:{count}\")\n",
    "        break\n",
    "    elif keyin >randomNum:\n",
    "        print(\"再key小一點\")\n",
    "        max = keyin - 1\n",
    "    elif keyin <randomNum:\n",
    "        print(\"再key大一點\")\n",
    "        min = keyin + 1\n",
    "    print(f\"你已經猜了{count}次\")\n",
    "\n",
    "print(\"Game Over\") \n"
   ]
  },
  {
   "cell_type": "code",
   "execution_count": null,
   "metadata": {},
   "outputs": [],
   "source": []
  }
 ],
 "metadata": {
  "kernelspec": {
   "display_name": "Python 3",
   "language": "python",
   "name": "python3"
  },
  "language_info": {
   "codemirror_mode": {
    "name": "ipython",
    "version": 3
   },
   "file_extension": ".py",
   "mimetype": "text/x-python",
   "name": "python",
   "nbconvert_exporter": "python",
   "pygments_lexer": "ipython3",
   "version": "3.10.13"
  }
 },
 "nbformat": 4,
 "nbformat_minor": 2
}
