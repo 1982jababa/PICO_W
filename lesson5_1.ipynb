{
 "cells": [
  {
   "cell_type": "code",
   "execution_count": 8,
   "metadata": {},
   "outputs": [
    {
     "name": "stdout",
     "output_type": "stream",
     "text": [
      "請輸入學生分數(0-100):38\n",
      "不及格\n"
     ]
    }
   ],
   "source": [
    "# 請輸入學生不及格人數(0~100)\n",
    "\n",
    "#0~60.不及格\n",
    "#60~80.及格\n",
    "#80~100.優\n",
    "#檢查超出範圍\n",
    "\n",
    "#if 單向選擇(true)    \n",
    "#else 雙向選擇(false).判斷兩個區域 槽狀\n",
    "\n",
    "import pyinputplus as pyip\n",
    "\n",
    "#引述名稱的呼叫\n",
    "scores = pyip.inputInt(\"請輸入學生分數(0-100):\",max=100,min=0)\n",
    "print (scores)\n",
    "\n",
    "# if後面要布林直\n",
    "if scores < 60 :\n",
    "    print(\"不及格\")\n",
    "else:\n",
    "    if scores < 80:\n",
    "        print(\"及格\")  \n",
    "    else:\n",
    "        print(\"優\")     \n",
    "\n",
    "    \n",
    "    "
   ]
  },
  {
   "cell_type": "code",
   "execution_count": 9,
   "metadata": {},
   "outputs": [
    {
     "name": "stdout",
     "output_type": "stream",
     "text": [
      "請輸入學生分數(0-100):38\n",
      "不及格\n"
     ]
    }
   ],
   "source": [
    "# 請輸入學生不及格人數(0~100)\n",
    "\n",
    "#0~60.不及格\n",
    "#60~80.及格\n",
    "#80~100.優\n",
    "#檢查超出範圍\n",
    "\n",
    "import pyinputplus as pyip\n",
    "scores = pyip.inputInt(\"請輸入學生分數(0-100):\",max=100,min=0)\n",
    "print (scores)\n",
    "\n",
    "#多向選擇\n",
    "if scores < 60:\n",
    "    print(\"不及格\")\n",
    "elif scores < 80:\n",
    "    print(\"及格\")\n",
    "else:\n",
    "    print(\"優\")  \n",
    "      "
   ]
  },
  {
   "cell_type": "code",
   "execution_count": 4,
   "metadata": {},
   "outputs": [
    {
     "name": "stdout",
     "output_type": "stream",
     "text": [
      "請輸入學生分數(0-100):88\n",
      "甲\n"
     ]
    }
   ],
   "source": [
    "# 請輸入學生不及格人數\n",
    "\n",
    "#90(含)~100分為[優]\n",
    "#80(含)~89分為[甲]\n",
    "#70(含)~79分為[乙]\n",
    "#60(含)~69分為[丙]\n",
    "#0(含)~59分為[丁]\n",
    "# if else 只有一個程式區塊會被執行\n",
    "\n",
    "\n",
    "scores = pyip.inputInt(\"請輸入學生分數(0-100):\",max=100,min=0)\n",
    "print(scores)\n",
    "\n",
    "if scores >= 90:\n",
    "    print(\"優\")\n",
    "elif scores >=80:\n",
    "    print(\"甲\")\n",
    "elif scores >=70:\n",
    "    print(\"乙\")\n",
    "elif scores >=60:\n",
    "    print(\"丙\")\n",
    "elif scores >=50:\n",
    "    print(\"丁\")"
   ]
  },
  {
   "cell_type": "code",
   "execution_count": 6,
   "metadata": {},
   "outputs": [
    {
     "name": "stdout",
     "output_type": "stream",
     "text": [
      "請輸入年齡:北賽垮\n"
     ]
    }
   ],
   "source": [
    "#限制級:18歲或以上皆可欣賞\n",
    "#輔導級:13歲(含)~17歲以上皆可欣賞\n",
    "#普遍級:12歲(含)以下皆可欣賞\n",
    "\n",
    "age = pyip.inputInt(\"請輸入年齡:\",max=100,min=0,blank=True)\n",
    "\n",
    "#空字串\n",
    "if (age) == \"\":\n",
    "    print(\"青菜垮\")\n",
    "elif age > 18:\n",
    "    print(\"北賽垮\")\n",
    "elif age >= 13:\n",
    "    print(\"燒燒A況垮\")\n",
    "else:\n",
    "    print(\"阿公揪阿罵來誇\")\n"
   ]
  },
  {
   "cell_type": "code",
   "execution_count": 14,
   "metadata": {},
   "outputs": [
    {
     "name": "stdout",
     "output_type": "stream",
     "text": [
      "請問是否加分(y,n)):yes\n",
      "加分\n"
     ]
    }
   ],
   "source": [
    "#邏輯運算子\n",
    "#and 左右兩個條件若都為真則真~否則為假\n",
    "#or 左右兩個條件只要一個為真就是真~否則為假\n",
    "#not 條件若為真改為假，若為假則改為真\n",
    "\n",
    "import pyinputplus as pyip\n",
    "\n",
    "is_yes = pyip.inputYesNo(\"請問是否加分(y,n)):\")\n",
    "print(is_yes)\n",
    "if is_yes == \"yes\":\n",
    "    print(\"加分\")\n",
    "else:\n",
    "    print(\"No\")\n"
   ]
  },
  {
   "cell_type": "code",
   "execution_count": 15,
   "metadata": {},
   "outputs": [
    {
     "name": "stdout",
     "output_type": "stream",
     "text": [
      "請問是否加分(y,n)):No\n"
     ]
    }
   ],
   "source": [
    "import pyinputplus as pyip\n",
    "is_yes = pyip.inputYesNo(\"請問是否加分(y,n)):\")\n",
    "if not (is_yes == \"yes\"):\n",
    "    print(\"No\")\n",
    "else:\n",
    "    print(\"加分\")\n",
    "        "
   ]
  },
  {
   "cell_type": "code",
   "execution_count": 22,
   "metadata": {},
   "outputs": [
    {
     "name": "stdout",
     "output_type": "stream",
     "text": [
      "請輸入國文分數:請輸入數學分數:獎金:500\n"
     ]
    }
   ],
   "source": [
    "#國文100,同時數學100,獎金1000\n",
    "#國文100,同時數學100,獎金500\n",
    "#其他獎金0\n",
    "\n",
    "chinese = pyip.inputInt(\"請輸入國文分數:\",min=0,max=100)\n",
    "math = pyip.inputInt(\"請輸入數學分數:\",min=0,max=100)\n",
    "bonus = 0 \n",
    "\n",
    "#巢狀判斷\n",
    "\n",
    "if chinese == 100:\n",
    "    if math == 100:\n",
    "        bouns = 1000\n",
    "    else:\n",
    "            bouns = 500\n",
    "elif math == 100:\n",
    "    bouns = 500\n",
    "\n",
    "print(f\"獎金:{bouns}\")\n"
   ]
  },
  {
   "cell_type": "code",
   "execution_count": 24,
   "metadata": {},
   "outputs": [
    {
     "name": "stdout",
     "output_type": "stream",
     "text": [
      "請輸入國文分數:請輸入數學分數:獎金:1000\n"
     ]
    }
   ],
   "source": [
    "#國文100,同時數學100,獎金1000\n",
    "#國文100,同時數學100,獎金500\n",
    "#其他獎金0\n",
    "\n",
    "chinese = pyip.inputInt(\"請輸入國文分數:\",min=0,max=100)\n",
    "math = pyip.inputInt(\"請輸入數學分數:\",min=0,max=100)\n",
    "bonus = 0 \n",
    "\n",
    "#邏輯運算子\n",
    "\n",
    "if chinese == 100 and math ==100:\n",
    "    bouns = 1000\n",
    "elif  chinese == 100 or math ==100:\n",
    "    bouns =500    \n",
    "\n",
    "print(f\"獎金:{bouns}\")\n",
    "\n"
   ]
  },
  {
   "cell_type": "code",
   "execution_count": 25,
   "metadata": {},
   "outputs": [
    {
     "name": "stdout",
     "output_type": "stream",
     "text": [
      "1...10的總合是:55\n"
     ]
    }
   ],
   "source": [
    "#迴圈 Loop\n",
    "\n",
    "#for in 明確知道執行的次數/ for 自訂變數in:1.序列資料 2.map資料\n",
    "#while 不知道執行的次數\n",
    "#1加到10的總和\n",
    "\n",
    "value = 0\n",
    "value += 1\n",
    "value += 2\n",
    "value += 3\n",
    "value += 4\n",
    "value += 5\n",
    "value += 6\n",
    "value += 7\n",
    "value += 8\n",
    "value += 9\n",
    "value += 10\n",
    "\n",
    "print(f\"1...10的總合是:{value}\")\n",
    "\n"
   ]
  },
  {
   "cell_type": "code",
   "execution_count": 28,
   "metadata": {},
   "outputs": [
    {
     "name": "stdout",
     "output_type": "stream",
     "text": [
      "1..1000的總和是:4950\n"
     ]
    }
   ],
   "source": [
    "#1加到10的總和\n",
    "#感覺好用~\n",
    "\n",
    "\n",
    "\n",
    "value = 0\n",
    "for i in range(1,100):\n",
    "    value += i\n",
    "\n",
    "print(f\"1..1000的總和是:{value}\")\n"
   ]
  },
  {
   "cell_type": "code",
   "execution_count": 4,
   "metadata": {},
   "outputs": [
    {
     "name": "stdout",
     "output_type": "stream",
     "text": [
      "請輸入起始值:(0以上)2000\n",
      "請輸入結束值:(10000以下)3000\n",
      "2000..end=3000]的總和是:2502500\n"
     ]
    }
   ],
   "source": [
    "#1加到1000的總和\n",
    "import pyinputplus as pyip\n",
    "start = pyip.inputInt(\"請輸入起始值:(0以上)\",min=0,max=10000)\n",
    "print(start)\n",
    "end = pyip.inputInt(\"請輸入結束值:(10000以下)\",min=1,max=10000)\n",
    "print(end)\n",
    "value = 0\n",
    "for i in range(start,end+1):\n",
    "    value += i\n",
    "\n",
    "print(f\"{start}..{end=}]的總和是:{value}\")\n"
   ]
  },
  {
   "cell_type": "code",
   "execution_count": 9,
   "metadata": {},
   "outputs": [
    {
     "name": "stdout",
     "output_type": "stream",
     "text": [
      "i=1\n",
      "j=1 j=2 j=3 j=4 j=5 j=6 j=7 j=8 j=9 \n",
      "===============\n",
      "i=2\n",
      "j=1 j=2 j=3 j=4 j=5 j=6 j=7 j=8 j=9 \n",
      "===============\n",
      "i=3\n",
      "j=1 j=2 j=3 j=4 j=5 j=6 j=7 j=8 j=9 \n",
      "===============\n",
      "i=4\n",
      "j=1 j=2 j=3 j=4 j=5 j=6 j=7 j=8 j=9 \n",
      "===============\n",
      "i=5\n",
      "j=1 j=2 j=3 j=4 j=5 j=6 j=7 j=8 j=9 \n",
      "===============\n",
      "i=6\n",
      "j=1 j=2 j=3 j=4 j=5 j=6 j=7 j=8 j=9 \n",
      "===============\n",
      "i=7\n",
      "j=1 j=2 j=3 j=4 j=5 j=6 j=7 j=8 j=9 \n",
      "===============\n",
      "i=8\n",
      "j=1 j=2 j=3 j=4 j=5 j=6 j=7 j=8 j=9 \n",
      "===============\n",
      "i=9\n",
      "j=1 j=2 j=3 j=4 j=5 j=6 j=7 j=8 j=9 \n",
      "===============\n"
     ]
    }
   ],
   "source": [
    "#巢狀迴圈/外部迴圈/內部迴圈\n",
    "\n",
    "for i in range(1,10) :\n",
    "    print(f\"i={i}\")\n",
    "    for j in range(1,10):\n",
    "        print(f\"j={j}\",end=' ')\n",
    "    print(\"\\n===============\")    "
   ]
  },
  {
   "cell_type": "code",
   "execution_count": 16,
   "metadata": {},
   "outputs": [
    {
     "name": "stdout",
     "output_type": "stream",
     "text": [
      "1 * 1= 1 1 * 2= 2 1 * 3= 3 1 * 4= 4 1 * 5= 5 1 * 6= 6 1 * 7= 7 1 * 8= 8 1 * 9= 9 \n",
      "2 * 1= 2 2 * 2= 4 2 * 3= 6 2 * 4= 8 2 * 5=10 2 * 6=12 2 * 7=14 2 * 8=16 2 * 9=18 \n",
      "3 * 1= 3 3 * 2= 6 3 * 3= 9 3 * 4=12 3 * 5=15 3 * 6=18 3 * 7=21 3 * 8=24 3 * 9=27 \n",
      "4 * 1= 4 4 * 2= 8 4 * 3=12 4 * 4=16 4 * 5=20 4 * 6=24 4 * 7=28 4 * 8=32 4 * 9=36 \n",
      "5 * 1= 5 5 * 2=10 5 * 3=15 5 * 4=20 5 * 5=25 5 * 6=30 5 * 7=35 5 * 8=40 5 * 9=45 \n",
      "6 * 1= 6 6 * 2=12 6 * 3=18 6 * 4=24 6 * 5=30 6 * 6=36 6 * 7=42 6 * 8=48 6 * 9=54 \n",
      "7 * 1= 7 7 * 2=14 7 * 3=21 7 * 4=28 7 * 5=35 7 * 6=42 7 * 7=49 7 * 8=56 7 * 9=63 \n",
      "8 * 1= 8 8 * 2=16 8 * 3=24 8 * 4=32 8 * 5=40 8 * 6=48 8 * 7=56 8 * 8=64 8 * 9=72 \n",
      "9 * 1= 9 9 * 2=18 9 * 3=27 9 * 4=36 9 * 5=45 9 * 6=54 9 * 7=63 9 * 8=72 9 * 9=81 \n"
     ]
    }
   ],
   "source": [
    "for i in range(1,10) :\n",
    "    for j in range(1,10):\n",
    "\n",
    "        #:<2 代表i迴圈字串靠左-有兩字元\n",
    "         #:2 代表j迴圈字串靠右-有兩字元 \n",
    "        print(f\"{i:<2}*{j:2}={i*j:2}\",end=' ')\n",
    "    print()    "
   ]
  }
 ],
 "metadata": {
  "kernelspec": {
   "display_name": "Python 3",
   "language": "python",
   "name": "python3"
  },
  "language_info": {
   "codemirror_mode": {
    "name": "ipython",
    "version": 3
   },
   "file_extension": ".py",
   "mimetype": "text/x-python",
   "name": "python",
   "nbconvert_exporter": "python",
   "pygments_lexer": "ipython3",
   "version": "3.10.13"
  }
 },
 "nbformat": 4,
 "nbformat_minor": 2
}
