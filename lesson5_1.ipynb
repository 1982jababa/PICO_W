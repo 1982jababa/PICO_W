{
 "cells": [
  {
   "cell_type": "code",
   "execution_count": 1,
   "metadata": {},
   "outputs": [],
   "source": [
    "# 請輸入學生不及格人數\n",
    "\n",
    "#0~60.不及格\n",
    "#60~80.及格\n",
    "#80~100.優\n",
    "#檢查超出範圍\n",
    "\n",
    "#if 單向選擇(true)    \n",
    "#else 雙向選擇(false).判斷兩個區域 槽狀\n",
    "import pyinputplus as pyip\n",
    "\n",
    "#引述名稱的呼叫\n",
    "scores = pyip.inputInt(prompt)\n",
    "print scores\n",
    "\n",
    "# if後面要部林直\n",
    "if scores < 60 :\n",
    "    print(\"不及格\")\n",
    "\n",
    "    \n",
    "    "
   ]
  },
  {
   "cell_type": "code",
   "execution_count": 2,
   "metadata": {},
   "outputs": [],
   "source": [
    "# 請輸入學生不及格人數\n",
    "\n",
    "#90(含)~100分為[優]\n",
    "#80(含)~89分為[甲]\n",
    "#70(含)~79分為[乙]\n",
    "#60(含)~69分為[丙]\n",
    "#0(含)~59分為[丁]\n",
    "# if else 只有一個程式區塊會被執行\n"
   ]
  }
 ],
 "metadata": {
  "kernelspec": {
   "display_name": "Python 3",
   "language": "python",
   "name": "python3"
  },
  "language_info": {
   "codemirror_mode": {
    "name": "ipython",
    "version": 3
   },
   "file_extension": ".py",
   "mimetype": "text/x-python",
   "name": "python",
   "nbconvert_exporter": "python",
   "pygments_lexer": "ipython3",
   "version": "3.10.13"
  }
 },
 "nbformat": 4,
 "nbformat_minor": 2
}
