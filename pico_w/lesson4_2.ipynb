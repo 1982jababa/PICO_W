{
 "cells": [
  {
   "cell_type": "code",
   "execution_count": 4,
   "metadata": {},
   "outputs": [],
   "source": [
    "#學生總分為300\n",
    "#有些學生可以加分5%\n",
    "\n",
    "try:\n",
    "    scores = int(input(\"請輸入學生分數(最高300分):\"))\n",
    "\n",
    "except ValueError as err:\n",
    "    print(f\"輸入錯誤{err}\")\n",
    "except TypeError as err:\n",
    "    print(f\"輸入錯誤{err}\")\n",
    "except :\n",
    "    print(\"不知名的錯誤\")   \n",
    "\n",
    "\n",
    "    #輸入超過300分.出現警告\n",
    "    if scores <=300:    \n",
    "        #巢狀判斷 主要解決多個條件\n",
    "        is_add = input(\"學生是否符合加分條件?(y,n)\")\n",
    "        print(f\"學生分數是:{scores}\")\n",
    "            \n",
    "        if is_add == \"y\":\n",
    "            scores *=1.05\n",
    "            #如果加分完超過300.就以300分為準\n",
    "            if scores > 300:\n",
    "                scores = 300\n",
    "            \n",
    "    else:   \n",
    "        print(\"輸入錯誤\")\n"
   ]
  },
  {
   "cell_type": "code",
   "execution_count": 2,
   "metadata": {},
   "outputs": [
    {
     "name": "stdout",
     "output_type": "stream",
     "text": [
      "請輸入學生分數(最高300分):\n"
     ]
    },
    {
     "ename": "NameError",
     "evalue": "name 'pyip' is not defined",
     "output_type": "error",
     "traceback": [
      "\u001b[0;31m---------------------------------------------------------------------------\u001b[0m",
      "\u001b[0;31mNameError\u001b[0m                                 Traceback (most recent call last)",
      "Cell \u001b[0;32mIn[2], line 2\u001b[0m\n\u001b[1;32m      1\u001b[0m \u001b[38;5;28mprint\u001b[39m(\u001b[38;5;124m\"\u001b[39m\u001b[38;5;124m請輸入學生分數(最高300分):\u001b[39m\u001b[38;5;124m\"\u001b[39m)\n\u001b[0;32m----> 2\u001b[0m scores \u001b[38;5;241m=\u001b[39m \u001b[43mpyip\u001b[49m\u001b[38;5;241m.\u001b[39minputNum(\u001b[38;5;28mmin\u001b[39m\u001b[38;5;241m=\u001b[39m\u001b[38;5;241m0\u001b[39m, \u001b[38;5;28mmax\u001b[39m\u001b[38;5;241m=\u001b[39m\u001b[38;5;241m300\u001b[39m)\n\u001b[1;32m      3\u001b[0m \u001b[38;5;28mprint\u001b[39m(\u001b[38;5;124mf\u001b[39m\u001b[38;5;124m\"\u001b[39m\u001b[38;5;124m學生未加成分數是:\u001b[39m\u001b[38;5;132;01m{\u001b[39;00mscores\u001b[38;5;132;01m}\u001b[39;00m\u001b[38;5;124m\"\u001b[39m)                \n\u001b[1;32m      5\u001b[0m is_add\u001b[38;5;241m=\u001b[39m\u001b[38;5;28minput\u001b[39m(\u001b[38;5;124m\"\u001b[39m\u001b[38;5;124m學生是否符合加分條件?(y,n)\u001b[39m\u001b[38;5;124m\"\u001b[39m)\n",
      "\u001b[0;31mNameError\u001b[0m: name 'pyip' is not defined"
     ]
    }
   ],
   "source": [
    "print(\"請輸入學生分數(最高300分):\")\n",
    "scores = pyip.inputNum(min=0, max=300)\n",
    "print(f\"學生未加成分數是:{scores}\")                \n",
    "\n",
    "is_add=input(\"學生是否符合加分條件?(y,n)\")\n",
    "#巢狀判斷\n",
    "if is_add == \"y\":\n",
    "    scores *= 1.05\n",
    "    if scores > 300:\n",
    "        scores = 300\n",
    "print(f\"學生分數是:{scores}\")                "
   ]
  },
  {
   "cell_type": "code",
   "execution_count": 5,
   "metadata": {},
   "outputs": [
    {
     "name": "stdout",
     "output_type": "stream",
     "text": [
      "請輸入學生分數(0~100):\n",
      "Number must be at maximum 100.\n",
      "你的分數是:100\n",
      "優\n"
     ]
    }
   ],
   "source": [
    "\n",
    "import pyinputplus as pyip\n",
    "#請輸入學生分數(0~100):\n",
    "print(\"請輸入學生分數(0~100):\")\n",
    "scores = pyip.inputInt(min=0, max=100)\n",
    "print(f\"你的分數是:{scores}\")  \n",
    "\n",
    "#0~60,不及格\n",
    "if scores < 60:\n",
    "    print(\"不及格\")\n",
    "#60~80,及格\n",
    "else :\n",
    "    if scores < 80:\n",
    "        print(\"及格\")\n",
    "    else:   \n",
    "        print(\"優\")\n",
    "#80~100,優\n",
    "#檢查超出範圍,格式"
   ]
  }
 ],
 "metadata": {
  "kernelspec": {
   "display_name": "Python 3",
   "language": "python",
   "name": "python3"
  },
  "language_info": {
   "codemirror_mode": {
    "name": "ipython",
    "version": 3
   },
   "file_extension": ".py",
   "mimetype": "text/x-python",
   "name": "python",
   "nbconvert_exporter": "python",
   "pygments_lexer": "ipython3",
   "version": "3.10.13"
  }
 },
 "nbformat": 4,
 "nbformat_minor": 2
}
