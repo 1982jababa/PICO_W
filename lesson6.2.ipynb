{
 "cells": [
  {
   "cell_type": "code",
   "execution_count": 2,
   "metadata": {},
   "outputs": [
    {
     "data": {
      "text/plain": [
       "55"
      ]
     },
     "execution_count": 2,
     "metadata": {},
     "output_type": "execute_result"
    }
   ],
   "source": [
    "#while迴圈 明確知道執行的次數\n",
    "value = 0\n",
    "i = 1\n",
    "while i<= 10 :\n",
    "    value +=i\n",
    "    i +=1\n",
    "value    "
   ]
  },
  {
   "cell_type": "code",
   "execution_count": 8,
   "metadata": {},
   "outputs": [
    {
     "name": "stdout",
     "output_type": "stream",
     "text": [
      "請輸入第1月份存款:Blank values are not allowed.\n",
      "請輸入第1月份存款:Blank values are not allowed.\n",
      "請輸入第1月份存款:Blank values are not allowed.\n",
      "請輸入第1月份存款:Blank values are not allowed.\n",
      "請輸入第1月份存款:"
     ]
    }
   ],
   "source": [
    "#小明想要存錢買一機車,機車每輛30000元,他將每月存的錢輸入,當存款足夠買機車時,就顯示提示訊息告知。\n",
    "#不知道執行的次數\n",
    "import pyinputplus as pyip\n",
    "\n",
    "nun = 0\n",
    "deposit = 0\n",
    "while deposit < 30000 :\n",
    "    nun +=1\n",
    "    motoy = pyip.inputInt(f\"請輸入第{nun}月份存款:\")\n",
    "    print(motoy)\n",
    "    deposit += motoy\n",
    "\n",
    "print(f\"恭喜你已存夠,共存了{nun}月存款為{deposit}\")\n",
    "\n"
   ]
  },
  {
   "cell_type": "code",
   "execution_count": 9,
   "metadata": {},
   "outputs": [
    {
     "name": "stdout",
     "output_type": "stream",
     "text": [
      "請輸入學生的成績"
     ]
    }
   ],
   "source": [
    "#小美是一位教師,請你以while圈方式為小美設計一個輸入成績的程式,如果輸入負數表示成績輸入結束,在輪入成績結束後顯示班上總成績\n",
    "\n",
    "import pyinputplus as pyip\n",
    "inputValue = 0\n",
    "sum = 0\n",
    "while (inputValue >= 0):\n",
    "    inputValue = pyip.inputInt(\"請輸入學生的成績\")\n",
    "    print(inputValue)\n",
    "    #如果加總數字到負數不累加的打法如下 加if\n",
    "    if inputValue >= 0 :\n",
    "        sum += inputValue\n",
    "print(f\"學生總分為{sum}\")"
   ]
  },
  {
   "cell_type": "code",
   "execution_count": 1,
   "metadata": {},
   "outputs": [
    {
     "name": "stdout",
     "output_type": "stream",
     "text": [
      "請輸入學生的成績Blank values are not allowed.\n",
      "請輸入學生的成績100\n",
      "請輸入學生的成績55\n",
      "請輸入學生的成績50\n",
      "請輸入學生的成績100\n",
      "請輸入學生的成績0\n",
      "請輸入學生的成績-1\n",
      "學生總分為305\n"
     ]
    }
   ],
   "source": [
    "#小美是一位教師,請你以while圈方式為小美設計一個輸入成績的程式,如果輸入負數表示成績輸入結束,在輪入成績結束後顯示班上總成績\n",
    "\n",
    "import pyinputplus as pyip\n",
    "inputValue = 0\n",
    "sum = 0\n",
    "#若要中斷執行的打法\n",
    "while (True):\n",
    "    inputValue = pyip.inputInt(\"請輸入學生的成績\")\n",
    "    print(inputValue)\n",
    "    #如果加總數字到負數不累加的打法如下 加if\n",
    "    if inputValue < 0 :\n",
    "        break\n",
    "    sum += inputValue\n",
    "print(f\"學生總分為{sum}\")"
   ]
  }
 ],
 "metadata": {
  "kernelspec": {
   "display_name": "Python 3",
   "language": "python",
   "name": "python3"
  },
  "language_info": {
   "codemirror_mode": {
    "name": "ipython",
    "version": 3
   },
   "file_extension": ".py",
   "mimetype": "text/x-python",
   "name": "python",
   "nbconvert_exporter": "python",
   "pygments_lexer": "ipython3",
   "version": "3.10.13"
  }
 },
 "nbformat": 4,
 "nbformat_minor": 2
}
