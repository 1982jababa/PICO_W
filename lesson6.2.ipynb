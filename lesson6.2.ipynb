{
 "cells": [
  {
   "cell_type": "code",
   "execution_count": 2,
   "metadata": {},
   "outputs": [
    {
     "data": {
      "text/plain": [
       "55"
      ]
     },
     "execution_count": 2,
     "metadata": {},
     "output_type": "execute_result"
    }
   ],
   "source": [
    "#while迴圈 明確知道執行的次數\n",
    "value = 0\n",
    "i = 1\n",
    "while i<= 10 :\n",
    "    value +=i\n",
    "    i +=1\n",
    "value    "
   ]
  },
  {
   "cell_type": "code",
   "execution_count": 5,
   "metadata": {},
   "outputs": [
    {
     "name": "stdout",
     "output_type": "stream",
     "text": [
      "請輸入本月存款:2000\n",
      "請輸入本月存款:2000\n",
      "請輸入本月存款:2000\n",
      "請輸入本月存款:39000\n",
      "恭喜你已存夠,存款為39000\n"
     ]
    }
   ],
   "source": [
    "#小明想要存錢買一機車,機車每輛30000元,他將每月存的錢輸入,當存款足夠買機車時,就顯示提示訊息告知。\n",
    "import pyinputplus as pyip\n",
    "\n",
    "deposit = 0\n",
    "while deposit < 30000 :\n",
    "    motoy = pyip.inputInt(\"請輸入本月存款:\")\n",
    "    print(motoy)\n",
    "    deposit = motoy\n",
    "\n",
    "print(f\"恭喜你已存夠,存款為{deposit}\")\n",
    "\n"
   ]
  }
 ],
 "metadata": {
  "kernelspec": {
   "display_name": "Python 3",
   "language": "python",
   "name": "python3"
  },
  "language_info": {
   "codemirror_mode": {
    "name": "ipython",
    "version": 3
   },
   "file_extension": ".py",
   "mimetype": "text/x-python",
   "name": "python",
   "nbconvert_exporter": "python",
   "pygments_lexer": "ipython3",
   "version": "3.10.13"
  }
 },
 "nbformat": 4,
 "nbformat_minor": 2
}
