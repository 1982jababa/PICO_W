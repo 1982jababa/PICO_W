{
 "cells": [
  {
   "cell_type": "code",
   "execution_count": 6,
   "metadata": {},
   "outputs": [
    {
     "data": {
      "text/plain": [
       "14"
      ]
     },
     "execution_count": 6,
     "metadata": {},
     "output_type": "execute_result"
    }
   ],
   "source": [
    "#亂術的建立\n",
    "\n",
    "import random\n",
    "min = 1\n",
    "max = 100\n",
    "\n",
    "radomNum = random.randint(min,max)\n",
    "radomNum\n",
    "\n"
   ]
  },
  {
   "cell_type": "code",
   "execution_count": 11,
   "metadata": {},
   "outputs": [
    {
     "name": "stdout",
     "output_type": "stream",
     "text": [
      "================猜數字================\n",
      "猜數字(min)~(max):"
     ]
    },
    {
     "name": "stdout",
     "output_type": "stream",
     "text": [
      "猜數字(min)~(max):猜數字(min)~(max):猜數字(min)~(max):猜數字(min)~(max):"
     ]
    }
   ],
   "source": [
    "#亂術的建立\n",
    "\n",
    "import random\n",
    "import pyinputplus as pyip\n",
    "min = 1\n",
    "max = 100\n",
    "#設定次數\n",
    "count = 0\n",
    "\n",
    "radomNum = random.randint(min,max)\n",
    "\n",
    "print(\"================猜數字================\")\n",
    "while True :\n",
    "    keyin = pyip.inputInt(f\"猜數字(min)~(max):\",min=min , max = max)\n",
    "    count +=1\n",
    "    if (keyin ==radomNum ):\n",
    "        print(f\"恭喜你賓果，答案是:{radomNum}\")\n",
    "        \n",
    "        print(f\"你總共猜了:{count}次\")\n",
    "        break\n",
    "print(\"game over\")\n"
   ]
  },
  {
   "cell_type": "code",
   "execution_count": null,
   "metadata": {},
   "outputs": [],
   "source": []
  }
 ],
 "metadata": {
  "kernelspec": {
   "display_name": "Python 3",
   "language": "python",
   "name": "python3"
  },
  "language_info": {
   "codemirror_mode": {
    "name": "ipython",
    "version": 3
   },
   "file_extension": ".py",
   "mimetype": "text/x-python",
   "name": "python",
   "nbconvert_exporter": "python",
   "pygments_lexer": "ipython3",
   "version": "3.10.13"
  }
 },
 "nbformat": 4,
 "nbformat_minor": 2
}
