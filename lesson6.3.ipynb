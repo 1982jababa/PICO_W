{
 "cells": [
  {
   "cell_type": "code",
   "execution_count": 6,
   "metadata": {},
   "outputs": [
    {
     "data": {
      "text/plain": [
       "14"
      ]
     },
     "execution_count": 6,
     "metadata": {},
     "output_type": "execute_result"
    }
   ],
   "source": [
    "#亂術的建立\n",
    "\n",
    "import random\n",
    "min = 1\n",
    "max = 100\n",
    "\n",
    "radomNum = random.randint(min,max)\n",
    "radomNum\n",
    "\n"
   ]
  },
  {
   "cell_type": "code",
   "execution_count": 1,
   "metadata": {},
   "outputs": [
    {
     "name": "stdout",
     "output_type": "stream",
     "text": [
      "================猜數字================\n",
      "猜數字(min)~(max):"
     ]
    }
   ],
   "source": [
    "#亂術的建立\n",
    "\n",
    "import random\n",
    "import pyinputplus as pyip\n",
    "min = 1\n",
    "max = 100\n",
    "#設定次數\n",
    "count = 0\n",
    "\n",
    "radomNum = random.randint(min,max)\n",
    "\n",
    "print(\"================猜數字================\")\n",
    "while True :\n",
    "    keyin = pyip.inputInt(f\"猜數字(min)~(max):\",min=min , max = max)\n",
    "    count +=1\n",
    "    if (keyin == radomNum ):\n",
    "        print(f\"恭喜你賓果，答案是:{radomNum}\")\n",
    "        \n",
    "        print(f\"你總共猜了:{count}次\")\n",
    "        break\n",
    "    elif keyin > radomNum :\n",
    "        print(\"猜小一點\")\n",
    "        max = keyin - 1 \n",
    "\n",
    "    elif keyin < radomNum :\n",
    "        print(\"猜大一點\")\n",
    "        min = key +1 \n",
    "        \n",
    "    print(f\"你已經猜了:{count}次\")\n",
    "    \n",
    "print(\"game over\")\n"
   ]
  },
  {
   "cell_type": "code",
   "execution_count": 1,
   "metadata": {},
   "outputs": [
    {
     "name": "stdout",
     "output_type": "stream",
     "text": [
      "===========猜數字遊戲=============\n",
      "猜數字範圍1~100:Blank values are not allowed.\n",
      "猜數字範圍1~100:100\n",
      "再小一點\n",
      "您已經猜了1次\n",
      "猜數字範圍1~99:50\n",
      "再小一點\n",
      "您已經猜了2次\n",
      "猜數字範圍1~49:Number must be at maximum 49.\n",
      "猜數字範圍1~49:33\n",
      "再大一點\n",
      "您已經猜了3次\n",
      "猜數字範圍34~49:45\n",
      "再小一點\n",
      "您已經猜了4次\n",
      "猜數字範圍34~44:Number must be at minimum 34.\n",
      "猜數字範圍34~44:40\n",
      "再小一點\n",
      "您已經猜了5次\n",
      "猜數字範圍34~39:Number must be at maximum 39.\n",
      "猜數字範圍34~39:Number must be at minimum 34.\n",
      "猜數字範圍34~39:"
     ]
    }
   ],
   "source": [
    "import random\n",
    "import pyinputplus as pyip\n",
    "\n",
    "min = 1\n",
    "max = 100\n",
    "count = 0\n",
    "randomNum = random.randint(min,max)\n",
    "\n",
    "print(\"===========猜數字遊戲=============\")\n",
    "while True:\n",
    "    keyin = pyip.inputInt(f\"猜數字範圍{min}~{max}:\",min=min,max=max)\n",
    "    print(keyin)\n",
    "    count += 1\n",
    "    if(keyin == randomNum):\n",
    "        print(f\"賓果!猜對了, 答案是:{randomNum}\")\n",
    "        print(f\"您共猜了:{count}次\")\n",
    "        break\n",
    "    elif keyin > randomNum:\n",
    "        print(\"再小一點\")\n",
    "        max = keyin - 1\n",
    "    elif keyin < randomNum:\n",
    "        print(\"再大一點\")\n",
    "        min = keyin + 1\n",
    "    print(f\"您已經猜了{count}次\")\n",
    "\n",
    "print(\"Game Over!\")"
   ]
  }
 ],
 "metadata": {
  "kernelspec": {
   "display_name": "Python 3",
   "language": "python",
   "name": "python3"
  },
  "language_info": {
   "codemirror_mode": {
    "name": "ipython",
    "version": 3
   },
   "file_extension": ".py",
   "mimetype": "text/x-python",
   "name": "python",
   "nbconvert_exporter": "python",
   "pygments_lexer": "ipython3",
   "version": "3.10.13"
  }
 },
 "nbformat": 4,
 "nbformat_minor": 2
}
