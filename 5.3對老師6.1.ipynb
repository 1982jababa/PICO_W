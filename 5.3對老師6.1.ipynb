{
 "cells": [
  {
   "cell_type": "code",
   "execution_count": 2,
   "metadata": {},
   "outputs": [
    {
     "name": "stdout",
     "output_type": "stream",
     "text": [
      "1..10的總和是:55\n"
     ]
    }
   ],
   "source": [
    "#python 迴圈有兩個，一個是for in 迴圈 ， 一個是while迴圈\n",
    "# for in 明確知道執行的次數\n",
    "#while 不明確的執行次數\n",
    "\n",
    "#1加到10的總和\n",
    "value = 0 \n",
    "value +=1\n",
    "value +=2\n",
    "value +=3\n",
    "value +=4\n",
    "value +=5\n",
    "value +=6\n",
    "value +=7\n",
    "value +=8\n",
    "value +=9\n",
    "value +=10\n",
    "print(f\"1..10的總和是:{value}\")\n"
   ]
  },
  {
   "cell_type": "code",
   "execution_count": 4,
   "metadata": {},
   "outputs": [
    {
     "name": "stdout",
     "output_type": "stream",
     "text": [
      "1..10的總和是:55\n"
     ]
    }
   ],
   "source": [
    "#python 迴圈有兩個，一個是for in 迴圈 ， 一個是while迴圈\n",
    "# for in 明確知道執行的次數\n",
    "#while 不明確的執行次數\n",
    "\n",
    "#1加到10的總和\n",
    "value = 0 \n",
    "for i in range(1,11) :\n",
    "    value += i\n",
    "print(f\"1..10的總和是:{value}\")"
   ]
  },
  {
   "cell_type": "code",
   "execution_count": 2,
   "metadata": {},
   "outputs": [
    {
     "name": "stdout",
     "output_type": "stream",
     "text": [
      "1..1000的總和是:500500\n"
     ]
    }
   ],
   "source": [
    "#1加到1000的總和\n",
    "value = 0 \n",
    "for i in range(1,1001) :\n",
    "    value += i\n",
    "print(f\"1..1000的總和是:{value}\")"
   ]
  },
  {
   "cell_type": "code",
   "execution_count": 13,
   "metadata": {},
   "outputs": [
    {
     "name": "stdout",
     "output_type": "stream",
     "text": [
      "i=1\n",
      "j=1\n",
      "j=2\n",
      "j=3\n",
      "j=4\n",
      "j=5\n",
      "j=6\n",
      "j=7\n",
      "j=8\n",
      "j=9\n",
      "i=2\n",
      "j=1\n",
      "j=2\n",
      "j=3\n",
      "j=4\n",
      "j=5\n",
      "j=6\n",
      "j=7\n",
      "j=8\n",
      "j=9\n",
      "i=3\n",
      "j=1\n",
      "j=2\n",
      "j=3\n",
      "j=4\n",
      "j=5\n",
      "j=6\n",
      "j=7\n",
      "j=8\n",
      "j=9\n",
      "i=4\n",
      "j=1\n",
      "j=2\n",
      "j=3\n",
      "j=4\n",
      "j=5\n",
      "j=6\n",
      "j=7\n",
      "j=8\n",
      "j=9\n",
      "i=5\n",
      "j=1\n",
      "j=2\n",
      "j=3\n",
      "j=4\n",
      "j=5\n",
      "j=6\n",
      "j=7\n",
      "j=8\n",
      "j=9\n",
      "i=6\n",
      "j=1\n",
      "j=2\n",
      "j=3\n",
      "j=4\n",
      "j=5\n",
      "j=6\n",
      "j=7\n",
      "j=8\n",
      "j=9\n",
      "i=7\n",
      "j=1\n",
      "j=2\n",
      "j=3\n",
      "j=4\n",
      "j=5\n",
      "j=6\n",
      "j=7\n",
      "j=8\n",
      "j=9\n",
      "i=8\n",
      "j=1\n",
      "j=2\n",
      "j=3\n",
      "j=4\n",
      "j=5\n",
      "j=6\n",
      "j=7\n",
      "j=8\n",
      "j=9\n",
      "i=9\n",
      "j=1\n",
      "j=2\n",
      "j=3\n",
      "j=4\n",
      "j=5\n",
      "j=6\n",
      "j=7\n",
      "j=8\n",
      "j=9\n"
     ]
    }
   ],
   "source": [
    "#不換行\n",
    "for i in range(1,10) :\n",
    "    print(f\"i={i}\")\n",
    "    for j in range(1,10) :\n",
    "        print(f\"j={j}\")"
   ]
  },
  {
   "cell_type": "code",
   "execution_count": 10,
   "metadata": {},
   "outputs": [
    {
     "name": "stdout",
     "output_type": "stream",
     "text": [
      "i=1\n",
      "j=1j=2j=3j=4j=5j=6j=7j=8j=9\n",
      "i=2\n",
      "j=1j=2j=3j=4j=5j=6j=7j=8j=9\n",
      "i=3\n",
      "j=1j=2j=3j=4j=5j=6j=7j=8j=9\n",
      "i=4\n",
      "j=1j=2j=3j=4j=5j=6j=7j=8j=9\n",
      "i=5\n",
      "j=1j=2j=3j=4j=5j=6j=7j=8j=9\n",
      "i=6\n",
      "j=1j=2j=3j=4j=5j=6j=7j=8j=9\n",
      "i=7\n",
      "j=1j=2j=3j=4j=5j=6j=7j=8j=9\n",
      "i=8\n",
      "j=1j=2j=3j=4j=5j=6j=7j=8j=9\n",
      "i=9\n",
      "j=1j=2j=3j=4j=5j=6j=7j=8j=9\n"
     ]
    }
   ],
   "source": [
    "#換行\n",
    "for i in range(1,10) :\n",
    "    print(f\"i={i}\")\n",
    "    for j in range(1,10) :\n",
    "        print(f\"j={j}\",end='')\n",
    "    print()"
   ]
  },
  {
   "cell_type": "code",
   "execution_count": 15,
   "metadata": {},
   "outputs": [
    {
     "name": "stdout",
     "output_type": "stream",
     "text": [
      "i=1\n",
      "j=1j=2j=3j=4j=5j=6j=7j=8j=9\n",
      "\n",
      "i=2\n",
      "j=1j=2j=3j=4j=5j=6j=7j=8j=9\n",
      "\n",
      "i=3\n",
      "j=1j=2j=3j=4j=5j=6j=7j=8j=9\n",
      "\n",
      "i=4\n",
      "j=1j=2j=3j=4j=5j=6j=7j=8j=9\n",
      "\n",
      "i=5\n",
      "j=1j=2j=3j=4j=5j=6j=7j=8j=9\n",
      "\n",
      "i=6\n",
      "j=1j=2j=3j=4j=5j=6j=7j=8j=9\n",
      "\n",
      "i=7\n",
      "j=1j=2j=3j=4j=5j=6j=7j=8j=9\n",
      "\n",
      "i=8\n",
      "j=1j=2j=3j=4j=5j=6j=7j=8j=9\n",
      "\n",
      "i=9\n",
      "j=1j=2j=3j=4j=5j=6j=7j=8j=9\n",
      "\n"
     ]
    }
   ],
   "source": [
    "#換行\n",
    "for i in range(1,10) :\n",
    "    print(f\"i={i}\")\n",
    "    for j in range(1,10) :\n",
    "        print(f\"j={j}\",end='')\n",
    "    print(\"\\n\")"
   ]
  },
  {
   "cell_type": "code",
   "execution_count": 16,
   "metadata": {},
   "outputs": [
    {
     "name": "stdout",
     "output_type": "stream",
     "text": [
      "1*j=i*j1*j=i*j1*j=i*j1*j=i*j1*j=i*j1*j=i*j1*j=i*j1*j=i*j1*j=i*j\n",
      "\n",
      "2*j=i*j2*j=i*j2*j=i*j2*j=i*j2*j=i*j2*j=i*j2*j=i*j2*j=i*j2*j=i*j\n",
      "\n",
      "3*j=i*j3*j=i*j3*j=i*j3*j=i*j3*j=i*j3*j=i*j3*j=i*j3*j=i*j3*j=i*j\n",
      "\n",
      "4*j=i*j4*j=i*j4*j=i*j4*j=i*j4*j=i*j4*j=i*j4*j=i*j4*j=i*j4*j=i*j\n",
      "\n",
      "5*j=i*j5*j=i*j5*j=i*j5*j=i*j5*j=i*j5*j=i*j5*j=i*j5*j=i*j5*j=i*j\n",
      "\n",
      "6*j=i*j6*j=i*j6*j=i*j6*j=i*j6*j=i*j6*j=i*j6*j=i*j6*j=i*j6*j=i*j\n",
      "\n",
      "7*j=i*j7*j=i*j7*j=i*j7*j=i*j7*j=i*j7*j=i*j7*j=i*j7*j=i*j7*j=i*j\n",
      "\n",
      "8*j=i*j8*j=i*j8*j=i*j8*j=i*j8*j=i*j8*j=i*j8*j=i*j8*j=i*j8*j=i*j\n",
      "\n",
      "9*j=i*j9*j=i*j9*j=i*j9*j=i*j9*j=i*j9*j=i*j9*j=i*j9*j=i*j9*j=i*j\n",
      "\n"
     ]
    }
   ],
   "source": [
    "for i in range(1,10) :\n",
    "    for j in range(1,10) :\n",
    "        print(f\"{i}*j=i*j\",end='')\n",
    "    print(\"\\n\")"
   ]
  },
  {
   "cell_type": "code",
   "execution_count": 18,
   "metadata": {},
   "outputs": [
    {
     "name": "stdout",
     "output_type": "stream",
     "text": [
      "1*1=i*j1*2=i*j1*3=i*j1*4=i*j1*5=i*j1*6=i*j1*7=i*j1*8=i*j1*9=i*j\n",
      "\n",
      "2*1=i*j2*2=i*j2*3=i*j2*4=i*j2*5=i*j2*6=i*j2*7=i*j2*8=i*j2*9=i*j\n",
      "\n",
      "3*1=i*j3*2=i*j3*3=i*j3*4=i*j3*5=i*j3*6=i*j3*7=i*j3*8=i*j3*9=i*j\n",
      "\n",
      "4*1=i*j4*2=i*j4*3=i*j4*4=i*j4*5=i*j4*6=i*j4*7=i*j4*8=i*j4*9=i*j\n",
      "\n",
      "5*1=i*j5*2=i*j5*3=i*j5*4=i*j5*5=i*j5*6=i*j5*7=i*j5*8=i*j5*9=i*j\n",
      "\n",
      "6*1=i*j6*2=i*j6*3=i*j6*4=i*j6*5=i*j6*6=i*j6*7=i*j6*8=i*j6*9=i*j\n",
      "\n",
      "7*1=i*j7*2=i*j7*3=i*j7*4=i*j7*5=i*j7*6=i*j7*7=i*j7*8=i*j7*9=i*j\n",
      "\n",
      "8*1=i*j8*2=i*j8*3=i*j8*4=i*j8*5=i*j8*6=i*j8*7=i*j8*8=i*j8*9=i*j\n",
      "\n",
      "9*1=i*j9*2=i*j9*3=i*j9*4=i*j9*5=i*j9*6=i*j9*7=i*j9*8=i*j9*9=i*j\n",
      "\n"
     ]
    }
   ],
   "source": [
    "#把j---> 代入1  \n",
    "for i in range(1,10) :\n",
    "    for j in range(1,10) :\n",
    "        print(f\"{i}*{j}=i*j\",end='')\n",
    "    print(\"\\n\")"
   ]
  },
  {
   "cell_type": "code",
   "execution_count": 19,
   "metadata": {},
   "outputs": [
    {
     "name": "stdout",
     "output_type": "stream",
     "text": [
      "1*1=i*j1*2=i*j1*3=i*j1*4=i*j1*5=i*j1*6=i*j1*7=i*j1*8=i*j1*9=i*j\n",
      "2*1=i*j2*2=i*j2*3=i*j2*4=i*j2*5=i*j2*6=i*j2*7=i*j2*8=i*j2*9=i*j\n",
      "3*1=i*j3*2=i*j3*3=i*j3*4=i*j3*5=i*j3*6=i*j3*7=i*j3*8=i*j3*9=i*j\n",
      "4*1=i*j4*2=i*j4*3=i*j4*4=i*j4*5=i*j4*6=i*j4*7=i*j4*8=i*j4*9=i*j\n",
      "5*1=i*j5*2=i*j5*3=i*j5*4=i*j5*5=i*j5*6=i*j5*7=i*j5*8=i*j5*9=i*j\n",
      "6*1=i*j6*2=i*j6*3=i*j6*4=i*j6*5=i*j6*6=i*j6*7=i*j6*8=i*j6*9=i*j\n",
      "7*1=i*j7*2=i*j7*3=i*j7*4=i*j7*5=i*j7*6=i*j7*7=i*j7*8=i*j7*9=i*j\n",
      "8*1=i*j8*2=i*j8*3=i*j8*4=i*j8*5=i*j8*6=i*j8*7=i*j8*8=i*j8*9=i*j\n",
      "9*1=i*j9*2=i*j9*3=i*j9*4=i*j9*5=i*j9*6=i*j9*7=i*j9*8=i*j9*9=i*j\n"
     ]
    }
   ],
   "source": [
    "#把j---> 代入1   不換行\n",
    "for i in range(1,10) :\n",
    "    for j in range(1,10) :\n",
    "        print(f\"{i}*{j}=i*j\",end='')\n",
    "    print()"
   ]
  },
  {
   "cell_type": "code",
   "execution_count": 20,
   "metadata": {},
   "outputs": [
    {
     "name": "stdout",
     "output_type": "stream",
     "text": [
      "1*1=11*2=21*3=31*4=41*5=51*6=61*7=71*8=81*9=9\n",
      "2*1=22*2=42*3=62*4=82*5=102*6=122*7=142*8=162*9=18\n",
      "3*1=33*2=63*3=93*4=123*5=153*6=183*7=213*8=243*9=27\n",
      "4*1=44*2=84*3=124*4=164*5=204*6=244*7=284*8=324*9=36\n",
      "5*1=55*2=105*3=155*4=205*5=255*6=305*7=355*8=405*9=45\n",
      "6*1=66*2=126*3=186*4=246*5=306*6=366*7=426*8=486*9=54\n",
      "7*1=77*2=147*3=217*4=287*5=357*6=427*7=497*8=567*9=63\n",
      "8*1=88*2=168*3=248*4=328*5=408*6=488*7=568*8=648*9=72\n",
      "9*1=99*2=189*3=279*4=369*5=459*6=549*7=639*8=729*9=81\n"
     ]
    }
   ],
   "source": [
    "#把j---> 代入1   換行 代入數字\n",
    "for i in range(1,10) :\n",
    "    for j in range(1,10) :\n",
    "        print(f\"{i}*{j}={i*j}\",end='')\n",
    "    print()"
   ]
  },
  {
   "cell_type": "code",
   "execution_count": 23,
   "metadata": {},
   "outputs": [
    {
     "name": "stdout",
     "output_type": "stream",
     "text": [
      " 1* 1  = 1   1* 2  = 2   1* 3  = 3   1* 4  = 4   1* 5  = 5   1* 6  = 6   1* 7  = 7   1* 8  = 8   1* 9  = 9  \n",
      " 2* 1  = 2   2* 2  = 4   2* 3  = 6   2* 4  = 8   2* 5  =10   2* 6  =12   2* 7  =14   2* 8  =16   2* 9  =18  \n",
      " 3* 1  = 3   3* 2  = 6   3* 3  = 9   3* 4  =12   3* 5  =15   3* 6  =18   3* 7  =21   3* 8  =24   3* 9  =27  \n",
      " 4* 1  = 4   4* 2  = 8   4* 3  =12   4* 4  =16   4* 5  =20   4* 6  =24   4* 7  =28   4* 8  =32   4* 9  =36  \n",
      " 5* 1  = 5   5* 2  =10   5* 3  =15   5* 4  =20   5* 5  =25   5* 6  =30   5* 7  =35   5* 8  =40   5* 9  =45  \n",
      " 6* 1  = 6   6* 2  =12   6* 3  =18   6* 4  =24   6* 5  =30   6* 6  =36   6* 7  =42   6* 8  =48   6* 9  =54  \n",
      " 7* 1  = 7   7* 2  =14   7* 3  =21   7* 4  =28   7* 5  =35   7* 6  =42   7* 7  =49   7* 8  =56   7* 9  =63  \n",
      " 8* 1  = 8   8* 2  =16   8* 3  =24   8* 4  =32   8* 5  =40   8* 6  =48   8* 7  =56   8* 8  =64   8* 9  =72  \n",
      " 9* 1  = 9   9* 2  =18   9* 3  =27   9* 4  =36   9* 5  =45   9* 6  =54   9* 7  =63   9* 8  =72   9* 9  =81  \n"
     ]
    }
   ],
   "source": [
    "#把j---> 代入1   換行 代入數字 把間距做出來\n",
    "for i in range(1,10) :\n",
    "    for j in range(1,10) :\n",
    "        print(f\"{i:2}*{j:2}  ={i*j:2}\",end='  ')\n",
    "    print()"
   ]
  }
 ],
 "metadata": {
  "kernelspec": {
   "display_name": "Python 3",
   "language": "python",
   "name": "python3"
  },
  "language_info": {
   "codemirror_mode": {
    "name": "ipython",
    "version": 3
   },
   "file_extension": ".py",
   "mimetype": "text/x-python",
   "name": "python",
   "nbconvert_exporter": "python",
   "pygments_lexer": "ipython3",
   "version": "3.10.13"
  }
 },
 "nbformat": 4,
 "nbformat_minor": 2
}
