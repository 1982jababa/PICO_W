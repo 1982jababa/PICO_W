{
 "cells": [
  {
   "cell_type": "code",
   "execution_count": 1,
   "metadata": {},
   "outputs": [
    {
     "data": {
      "text/plain": [
       "7.0"
      ]
     },
     "execution_count": 1,
     "metadata": {},
     "output_type": "execute_result"
    }
   ],
   "source": [
    "#0,5,9,14\n",
    "\n",
    "\n",
    "valuel1 =0\n",
    "valuel1 +=5\n",
    "valuel1 +=9\n",
    "valuel1 +=14\n",
    "valuel1 /4"
   ]
  },
  {
   "cell_type": "code",
   "execution_count": 3,
   "metadata": {},
   "outputs": [
    {
     "data": {
      "text/plain": [
       "10.75"
      ]
     },
     "execution_count": 3,
     "metadata": {},
     "output_type": "execute_result"
    }
   ],
   "source": [
    "#5,6,8,8\n",
    "\n",
    "valuel1 =15\n",
    "valuel1 +=5\n",
    "valuel1 +=6\n",
    "valuel1 +=8\n",
    "valuel1 +=9\n",
    "valuel1 /4"
   ]
  },
  {
   "cell_type": "code",
   "execution_count": 3,
   "metadata": {},
   "outputs": [
    {
     "name": "stdout",
     "output_type": "stream",
     "text": [
      "[0,5,10,125]的平均值是35\n",
      "[0,5,10,125]的標準差是是60.13872850889572\n",
      "[0,5,15,125]的平均值是36.25\n",
      "[0,5,15,125]的標準差是是59.49439749533845\n"
     ]
    }
   ],
   "source": [
    "import statistics\n",
    "\n",
    "mean1 = statistics.mean([0,5,10,125]) \n",
    "mean2 = statistics.mean([0,5,15,125])\n",
    "\n",
    "std1 = statistics.stdev([0,5,10,125]) \n",
    "std2 = statistics.stdev([0,5,15,125]) \n",
    "#字串差補\n",
    "print(f'[0,5,10,125]的平均值是{mean1}')\n",
    "print(f'[0,5,10,125]的標準差是是{std1}')\n",
    "print(f'[0,5,15,125]的平均值是{mean2}')\n",
    "print(f'[0,5,15,125]的標準差是是{std2}')"
   ]
  }
 ],
 "metadata": {
  "kernelspec": {
   "display_name": "Python 3",
   "language": "python",
   "name": "python3"
  },
  "language_info": {
   "codemirror_mode": {
    "name": "ipython",
    "version": 3
   },
   "file_extension": ".py",
   "mimetype": "text/x-python",
   "name": "python",
   "nbconvert_exporter": "python",
   "pygments_lexer": "ipython3",
   "version": "3.10.13"
  }
 },
 "nbformat": 4,
 "nbformat_minor": 2
}
