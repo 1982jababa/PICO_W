{
 "cells": [
  {
   "cell_type": "code",
   "execution_count": 1,
   "metadata": {},
   "outputs": [
    {
     "data": {
      "text/plain": [
       "False"
      ]
     },
     "execution_count": 1,
     "metadata": {},
     "output_type": "execute_result"
    }
   ],
   "source": [
    "\"abc\" == \"efg\""
   ]
  },
  {
   "cell_type": "code",
   "execution_count": 2,
   "metadata": {},
   "outputs": [
    {
     "data": {
      "text/plain": [
       "True"
      ]
     },
     "execution_count": 2,
     "metadata": {},
     "output_type": "execute_result"
    }
   ],
   "source": [
    "\"abc\" ==\"abc\""
   ]
  },
  {
   "cell_type": "code",
   "execution_count": 4,
   "metadata": {},
   "outputs": [
    {
     "name": "stdout",
     "output_type": "stream",
     "text": [
      "這是TRUE的城市區塊\n",
      "成年\n",
      "程式結束\n"
     ]
    }
   ],
   "source": [
    "age = 21\n",
    "\n",
    "if age >= 18:\n",
    "        print(\"這是TRUE的城市區塊\")\n",
    "        print(\"成年\")\n",
    "print(\"程式結束\")        "
   ]
  },
  {
   "cell_type": "code",
   "execution_count": 30,
   "metadata": {},
   "outputs": [
    {
     "ename": "NameError",
     "evalue": "name 'TypeErrorError' is not defined",
     "output_type": "error",
     "traceback": [
      "\u001b[0;31m---------------------------------------------------------------------------\u001b[0m",
      "\u001b[0;31mNameError\u001b[0m                                 Traceback (most recent call last)",
      "\u001b[1;32m/workspaces/PICO_W/lesson3.1.ipynb Cell 4\u001b[0m line \u001b[0;36m1\n\u001b[1;32m     <a href='vscode-notebook-cell://codespaces%2Bliterate-acorn-p5gvvg957pv26vgv/workspaces/PICO_W/lesson3.1.ipynb#W3sdnNjb2RlLXJlbW90ZQ%3D%3D?line=13'>14</a>\u001b[0m scores \u001b[39m*\u001b[39m\u001b[39m=\u001b[39m \u001b[39m1.05\u001b[39m\n\u001b[0;32m---> <a href='vscode-notebook-cell://codespaces%2Bliterate-acorn-p5gvvg957pv26vgv/workspaces/PICO_W/lesson3.1.ipynb#W3sdnNjb2RlLXJlbW90ZQ%3D%3D?line=14'>15</a>\u001b[0m \u001b[39mif\u001b[39;00m source \u001b[39m>\u001b[39m \u001b[39m300\u001b[39m:\n\u001b[1;32m     <a href='vscode-notebook-cell://codespaces%2Bliterate-acorn-p5gvvg957pv26vgv/workspaces/PICO_W/lesson3.1.ipynb#W3sdnNjb2RlLXJlbW90ZQ%3D%3D?line=15'>16</a>\u001b[0m     scores \u001b[39m=\u001b[39m \u001b[39m300\u001b[39m    \n",
      "\u001b[0;31mNameError\u001b[0m: name 'source' is not defined",
      "\nDuring handling of the above exception, another exception occurred:\n",
      "\u001b[0;31mNameError\u001b[0m                                 Traceback (most recent call last)",
      "\u001b[1;32m/workspaces/PICO_W/lesson3.1.ipynb Cell 4\u001b[0m line \u001b[0;36m2\n\u001b[1;32m     <a href='vscode-notebook-cell://codespaces%2Bliterate-acorn-p5gvvg957pv26vgv/workspaces/PICO_W/lesson3.1.ipynb#W3sdnNjb2RlLXJlbW90ZQ%3D%3D?line=21'>22</a>\u001b[0m \u001b[39mexcept\u001b[39;00m \u001b[39mValueError\u001b[39;00m \u001b[39mas\u001b[39;00m err:\n\u001b[1;32m     <a href='vscode-notebook-cell://codespaces%2Bliterate-acorn-p5gvvg957pv26vgv/workspaces/PICO_W/lesson3.1.ipynb#W3sdnNjb2RlLXJlbW90ZQ%3D%3D?line=22'>23</a>\u001b[0m     \u001b[39mprint\u001b[39m(\u001b[39mf\u001b[39m\u001b[39m\"\u001b[39m\u001b[39m輸入錯誤\u001b[39m\u001b[39m{\u001b[39;00merr\u001b[39m}\u001b[39;00m\u001b[39m\"\u001b[39m)\n\u001b[0;32m---> <a href='vscode-notebook-cell://codespaces%2Bliterate-acorn-p5gvvg957pv26vgv/workspaces/PICO_W/lesson3.1.ipynb#W3sdnNjb2RlLXJlbW90ZQ%3D%3D?line=23'>24</a>\u001b[0m \u001b[39mexcept\u001b[39;00m TypeErrorError \u001b[39mas\u001b[39;00m err:\n\u001b[1;32m     <a href='vscode-notebook-cell://codespaces%2Bliterate-acorn-p5gvvg957pv26vgv/workspaces/PICO_W/lesson3.1.ipynb#W3sdnNjb2RlLXJlbW90ZQ%3D%3D?line=24'>25</a>\u001b[0m     \u001b[39mprint\u001b[39m(\u001b[39mf\u001b[39m\u001b[39m\"\u001b[39m\u001b[39m類型錯誤\u001b[39m\u001b[39m{\u001b[39;00merr\u001b[39m}\u001b[39;00m\u001b[39m\"\u001b[39m)\n\u001b[1;32m     <a href='vscode-notebook-cell://codespaces%2Bliterate-acorn-p5gvvg957pv26vgv/workspaces/PICO_W/lesson3.1.ipynb#W3sdnNjb2RlLXJlbW90ZQ%3D%3D?line=25'>26</a>\u001b[0m \u001b[39mexcept\u001b[39;00m:\n",
      "\u001b[0;31mNameError\u001b[0m: name 'TypeErrorError' is not defined"
     ]
    }
   ],
   "source": [
    "#學生總分為300\n",
    "#有些學生可以加分5%\n",
    "#如果加分完超過300.就以300分為準\n",
    "#輸入超過300分.出現警告\n",
    "#巢狀判斷 主要解決多個條件\n",
    "\n",
    "try:\n",
    "    scores = int (input(\"請輸入學生分數(最高300分):\"))\n",
    "    if scores <= 300:\n",
    "        is_add = input(\"學生是否符合加分條件?(y,n)\")\n",
    "\n",
    "    #巢狀判斷\n",
    "    if is_add == \"y\":\n",
    "        scores *= 1.05\n",
    "        if source > 300:\n",
    "            scores = 300    \n",
    "        print(f\"學生的分數是:{scores}\") \n",
    "\n",
    "    else:\n",
    "        print(\"輸入錯誤\")\n",
    "\n",
    "except ValueError as err:\n",
    "    print(f\"輸入錯誤{err}\")\n",
    "except TypeErrorError as err:\n",
    "    print(f\"類型錯誤{err}\")\n",
    "except:\n",
    "    print(f\"不知道的錯錯\")        \n",
    "    "
   ]
  },
  {
   "cell_type": "code",
   "execution_count": 22,
   "metadata": {},
   "outputs": [
    {
     "name": "stdout",
     "output_type": "stream",
     "text": [
      "輸入格式有誤\n"
     ]
    }
   ],
   "source": [
    "try:\n",
    "    money = int(input(\"請輸入金額\"))\n",
    "    print(money)\n",
    "except ValueError:\n",
    "    print(\"輸入格式有誤\")\n",
    "    "
   ]
  },
  {
   "cell_type": "code",
   "execution_count": null,
   "metadata": {},
   "outputs": [],
   "source": []
  }
 ],
 "metadata": {
  "kernelspec": {
   "display_name": "Python 3",
   "language": "python",
   "name": "python3"
  },
  "language_info": {
   "codemirror_mode": {
    "name": "ipython",
    "version": 3
   },
   "file_extension": ".py",
   "mimetype": "text/x-python",
   "name": "python",
   "nbconvert_exporter": "python",
   "pygments_lexer": "ipython3",
   "version": "3.10.13"
  }
 },
 "nbformat": 4,
 "nbformat_minor": 2
}
